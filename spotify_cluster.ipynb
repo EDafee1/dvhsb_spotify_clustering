{
 "cells": [
  {
   "cell_type": "code",
   "execution_count": 1,
   "metadata": {},
   "outputs": [],
   "source": [
    "import streamlit as st\n",
    "import pandas as pd\n",
    "import numpy as np\n",
    "from sklearn.cluster import KMeans\n",
    "from sklearn.decomposition import PCA\n",
    "import plotly.express as px\n",
    "import base64\n",
    "from requests import post, get\n",
    "import json\n",
    "import csv\n",
    "from sklearn import preprocessing"
   ]
  },
  {
   "cell_type": "code",
   "execution_count": 2,
   "metadata": {},
   "outputs": [],
   "source": [
    "client_id = 'f177c75faa7d4fba999b81b922c1a042'\n",
    "client_secret = '46d8af627ab54f5a9462a50a6505ee6e'\n",
    "playlistId = '0IN7IWKmIfwlEysGyWUuRg'\n",
    "\n",
    "dataset = []\n",
    "dataset2 = []\n",
    "dataset3 = []"
   ]
  },
  {
   "cell_type": "code",
   "execution_count": 3,
   "metadata": {},
   "outputs": [],
   "source": [
    "def getToken():\n",
    "    auth_string = client_id + ':' + client_secret\n",
    "\n",
    "    auth_b64 = base64.b64encode(auth_string.encode('utf-8'))\n",
    "\n",
    "    url = 'https://accounts.spotify.com/api/token'\n",
    "\n",
    "    headers = {\n",
    "        'Authorization': 'Basic ' + auth_b64.decode('utf-8'),\n",
    "        'Content-Type': 'application/x-www-form-urlencoded'\n",
    "    }\n",
    "\n",
    "    data = {'grant_type': 'client_credentials'}\n",
    "\n",
    "    result = post(url, headers=headers, data=data)\n",
    "\n",
    "    json_result = json.loads(result.content)\n",
    "    token = json_result['access_token']\n",
    "\n",
    "    return token"
   ]
  },
  {
   "cell_type": "code",
   "execution_count": 4,
   "metadata": {},
   "outputs": [],
   "source": [
    "def getAuthHeader(token):\n",
    "    return {'Authorization': 'Bearer ' + token}"
   ]
  },
  {
   "cell_type": "code",
   "execution_count": 5,
   "metadata": {},
   "outputs": [],
   "source": [
    "def getAudioFeatures(token, trackId):\n",
    "\n",
    "    url = f'https://api.spotify.com/v1/audio-features/{trackId}'\n",
    "\n",
    "    headers = getAuthHeader(token)\n",
    "    result = get(url, headers=headers)\n",
    "    json_result = json.loads(result.content)\n",
    "\n",
    "    audio_features_temp = [\n",
    "        json_result['danceability'],\n",
    "        json_result['energy'],\n",
    "        json_result['key'],\n",
    "        json_result['loudness'],\n",
    "        json_result['mode'],\n",
    "        json_result['speechiness'],\n",
    "        json_result['acousticness'],\n",
    "        json_result['instrumentalness'],\n",
    "        json_result['liveness'],\n",
    "        json_result['valence'],\n",
    "        json_result['tempo'],\n",
    "    ]\n",
    "    dataset2.append(audio_features_temp)"
   ]
  },
  {
   "cell_type": "code",
   "execution_count": 7,
   "metadata": {},
   "outputs": [],
   "source": [
    "def getPlaylistItems(token, playlistId):\n",
    "\n",
    "    url = f'https://api.spotify.com/v1/playlists/{playlistId}/tracks'\n",
    "    limit = '&limit=100'\n",
    "    market = '?market=ID'\n",
    "\n",
    "    fields = '&fields=items%28track%28id%2Cname%2Cartists%2Cpopularity%2C+duration_ms%2C+album%28release_date%29%29%29'\n",
    "    url = url+market+fields+limit\n",
    "\n",
    "    headers = getAuthHeader(token)\n",
    "    result = get(url, headers=headers)\n",
    "    json_result = json.loads(result.content)\n",
    "\n",
    "    for i in range(len(json_result['items'])):\n",
    "        playlist_items_temp = []\n",
    "        playlist_items_temp.append(json_result['items'][i]['track']['id'])\n",
    "        playlist_items_temp.append(\n",
    "            json_result['items'][i]['track']['name'].encode('utf-8'))\n",
    "        playlist_items_temp.append(\n",
    "            json_result['items'][i]['track']['artists'][0]['name'].encode('utf-8'))\n",
    "        playlist_items_temp.append(\n",
    "            json_result['items'][i]['track']['popularity'])\n",
    "        playlist_items_temp.append(\n",
    "            json_result['items'][i]['track']['duration_ms'])\n",
    "        playlist_items_temp.append(\n",
    "            int(json_result['items'][i]['track']['album']['release_date'][0:4]))\n",
    "        dataset.append(playlist_items_temp)\n",
    "\n",
    "    for i in range(len(json_result['items'])):\n",
    "        playlist_items_temp = []\n",
    "        playlist_items_temp.append(json_result['items'][i]['track']['id'])\n",
    "        playlist_items_temp.append(\n",
    "            json_result['items'][i]['track']['name'].encode('utf-8'))\n",
    "        playlist_items_temp.append(\n",
    "            json_result['items'][i]['track']['artists'][0]['name'].encode('utf-8'))\n",
    "        playlist_items_temp.append(\n",
    "            json_result['items'][i]['track']['popularity'])\n",
    "        playlist_items_temp.append(\n",
    "            json_result['items'][i]['track']['duration_ms'])\n",
    "        playlist_items_temp.append(\n",
    "            int(json_result['items'][i]['track']['album']['release_date'][0:4]))\n",
    "        dataset.append(playlist_items_temp)\n",
    "\n",
    "    for i in range(len(dataset)):\n",
    "        getAudioFeatures(token, dataset[i][0])\n",
    "\n",
    "    for i in range(len(dataset)):\n",
    "        dataset3.append(dataset[i]+dataset2[i])\n",
    "\n",
    "    print(dataset3)\n",
    "    \n",
    "    with open('dataset.csv', 'w', newline='') as file:\n",
    "        writer = csv.writer(file)\n",
    "        writer.writerow([\"id\", \"name\", \"artist\", \"popularity\", \"duration_ms\", \"year\", \"danceability\", \"energy\", \"key\", \"loudness\", \"mode\",\n",
    "                         \"speechiness\", \"acousticness\", \"instrumentalness\", \"liveness\", \"valence\", \"tempo\"])\n",
    "        writer.writerows(dataset3)"
   ]
  },
  {
   "cell_type": "code",
   "execution_count": 8,
   "metadata": {},
   "outputs": [
    {
     "name": "stdout",
     "output_type": "stream",
     "text": [
      "access token : BQBTrBovl04DnrKv57zvTalg_3gRvFJZionoySakxK1hcaPHUa_vZSE5mVCRRFozOFPCsx6MMAf1B40xrG1AetDy225v0afFeZg0BtF13H6miwWsjcA\n",
      "[['14juitXdt9JqvBQAQP3i5L', b'Part Time God', b'The Bad Dreamers', 38, 217683, 2018, 0.682, 0.669, 10, -8.068, 0, 0.0803, 0.0471, 0.000484, 0.277, 0.548, 98.005], ['6HXVNP9mGsbTKG6ovKLzcH', b'Fringe Society', b'Sami Matar', 39, 222851, 2017, 0.504, 0.294, 8, -9.847, 1, 0.0296, 0.000748, 0.768, 0.172, 0.0382, 80.029], ['5sPkgogsCQFYKnYZMwkODz', b'The Arcane Arts', b'Arcis', 34, 172109, 2017, 0.638, 0.899, 8, -7.013, 1, 0.0774, 0.0001, 0.829, 0.118, 0.343, 114.993], ['4YyG15mMNRqjYCH3S7aBw0', b'Knightriders', b'Fury Weekend', 35, 281379, 2017, 0.575, 0.934, 2, -3.641, 0, 0.0441, 2.64e-05, 0.856, 0.147, 0.475, 116.018], ['0neQGBPQlP3WPPv1zKEyXU', b'WAITING', b'Kayzo', 26, 251200, 2018, 0.508, 0.929, 8, -3.018, 1, 0.142, 0.00099, 0.313, 0.0876, 0.227, 149.844], ['0UeYCHOETPfai02uskjJ3x', b'Shooting Stars', b'Bag Raiders', 67, 235813, 2011, 0.636, 0.72, 11, -6.195, 1, 0.0432, 0.0893, 0.0178, 0.0868, 0.425, 124.944], ['1AKGJQIHP3dIPuhOjdxD6a', b'Bitch Lasagna', b'pewdiepie', 56, 134416, 2018, 0.795, 0.789, 2, -5.21, 1, 0.259, 0.0138, 0, 0.113, 0.538, 149.961], ['14x9UseN928mYR4G1DRhRs', b'Ludicrous Speed 1', b'F-777', 41, 179408, 2015, 0.287, 0.959, 2, -8.358, 0, 0.388, 0.0123, 0.958, 0.323, 0.408, 165.787], ['6ndmKwWqMozN2tcZqzCX4K', b'Remember the Name (feat. Styles of Beyond)', b'Fort Minor', 73, 230493, 2005, 0.688, 0.835, 8, -4.162, 1, 0.0911, 0.0583, 2.87e-06, 0.0795, 0.88, 84.858], ['4dASQiO1Eoo3RJvt74FtXB', b'Sucker for Pain (with Wiz Khalifa, Imagine Dragons, Logic & Ty Dolla $ign feat. X Ambassadors)', b'Lil Wayne', 76, 243490, 2016, 0.502, 0.786, 9, -4.378, 0, 0.317, 0.255, 0, 0.65, 0.739, 169.021], ['0l1E291U7ZCyuDa2C3HVTX', b'Apologize', b'Besomorph', 63, 146665, 2020, 0.682, 0.62, 0, -8.077, 0, 0.0799, 0.228, 0, 0.284, 0.24, 128.064], ['6nQZG4G0vIrQWaCGbqHCQn', b'Down', b'Arc North', 53, 143500, 2020, 0.74, 0.692, 11, -6.488, 0, 0.0324, 0.108, 0.000342, 0.171, 0.666, 126.021], ['3wzvBEWGZEjibOSZm1Voac', b'Love You Like A Love Song', b'EQRIC', 42, 180983, 2020, 0.694, 0.878, 1, -4.941, 0, 0.0391, 0.105, 0, 0.227, 0.5, 121.975], ['3cNppb79LXe5codT1IEtFr', b'Losing Touch', b'Anthony Keyrouz', 33, 155496, 2020, 0.667, 0.949, 8, -5.074, 1, 0.224, 0.18, 0.00107, 0.0553, 0.142, 127.986], ['47qYqGPgMTh3l1PRKBHEfI', b'Unity', b'TheFatRat', 65, 249285, 2015, 0.707, 0.88, 4, -3.211, 0, 0.0317, 0.00424, 0.0379, 0.0534, 0.565, 105.003], ['4jp4Z02kzzg8gK0NmDGgml', b'Play', b'K-391', 71, 167976, 2019, 0.52, 0.798, 6, -5.498, 0, 0.0391, 0.101, 0, 0.0932, 0.168, 101.944], ['02shCNmb6IvgB5jLqKjtkK', b'Nevada', b'Vicetone', 72, 208561, 2016, 0.605, 0.783, 3, -4.271, 1, 0.0324, 0.299, 0.000175, 0.133, 0.105, 124.015], ['2BZYVqGyL1L1adBbq2ClVv', b'Dust', b'M|O|O|N', 55, 302400, 2012, 0.418, 0.659, 2, -7.958, 0, 0.0449, 0.0105, 0.878, 0.0727, 0.241, 100.007], ['46vKNalwMNPM53oI7pWl0d', b'Electrodynamix', b'dj-Nate', 47, 205087, 2017, 0.748, 0.735, 7, -6.012, 1, 0.173, 0.00105, 0.378, 0.0728, 0.24, 127.022], ['2tAeN2TKlQLOoSPXtARzBV', b'Eruption - 2015 Remaster', b'Van Halen', 64, 102080, 1978, 0.225, 0.689, 8, -9.12, 1, 0.0555, 0.469, 0.813, 0.337, 0.5, 93.798], ['3KhF2YiNpJvGpfiCW45R6D', b\"Runnin' with the Devil - 2015 Remaster\", b'Van Halen', 72, 214960, 1978, 0.472, 0.9, 8, -6.406, 0, 0.0582, 0.148, 0.000297, 0.34, 0.42, 95.826], ['25JBF1aUOagj0KZkxrNr8Q', b'Airborne Robots', b'F-777', 48, 271200, 2015, 0.485, 0.863, 7, -7.585, 0, 0.058, 0.000579, 0.965, 0.071, 0.106, 100.026], ['2GbtEH28VCEJIH9RiyFk78', b'Ludicrous Speed (2013 Version)', b'F-777', 26, 152117, 2015, 0.313, 0.997, 0, -7.13, 1, 0.678, 0.00319, 0.541, 0.35, 0.0396, 170.048], ['6CwaNTcdMuKzcioX0Krldt', b'Moskau', b'DOPEDROP', 45, 210105, 2018, 0.688, 0.856, 1, -6.826, 1, 0.162, 0.0561, 0.416, 0.292, 0.691, 128.094], ['5AAXvrvpClghVZIvk5wPqf', b'Soviet Connection \\xe2\\x80\\x94 The Theme from Grand Theft Auto IV', b'Michael Hunter', 56, 171486, 2010, 0.471, 0.608, 0, -7.73, 0, 0.0533, 0.218, 0.206, 0.13, 0.628, 146.048], ['0lMrWcrVXHPEuVBuc0nRzZ', b'', b'', 0, 0, 0, 0.804, 0.758, 4, -4.819, 1, 0.0483, 0.000875, 0.331, 0.125, 0.424, 127.946], ['725NSbIej5lP3GfhLC7So3', b'115', b'Elena Siegman', 66, 228160, 2011, 0.363, 0.933, 8, -3.808, 1, 0.175, 0.000105, 2.09e-06, 0.102, 0.676, 200.215], ['4COR2ZPEyUn0lsbAouRWxA', b'Bfg Division', b'Mick Gordon', 64, 506762, 2016, 0.284, 0.722, 7, -8.284, 1, 0.0559, 0.00461, 0.873, 0.163, 0.0383, 116.292], ['300oPI1fs0ZhQhPAX8Gn0y', b'Damned', b'Kevin Sherwood', 54, 98053, 2011, 0.435, 0.433, 2, -20.343, 0, 0.0348, 0.909, 0.963, 0.118, 0.26, 179.923], ['1JAqy8JxzsmMRq5jD2Oi49', b'Pirate', b'Liu', 54, 221775, 2017, 0.72, 0.781, 10, -2.647, 0, 0.0609, 0.00408, 0.807, 0.308, 0.307, 125.005], ['54OBgO0Xwu20Jak9TMXbR7', b'Wellerman - Sea Shanty', b'Nathan Evans', 75, 155333, 2021, 0.675, 0.359, 3, -5.157, 1, 0.108, 0.614, 0, 0.137, 0.792, 191.903], ['4Lh9y6lykMrLL3MBhx0CeO', b'Milky Ways', b'Bossfight', 55, 187540, 2012, 0.509, 0.981, 4, -1.986, 0, 0.0533, 0.000486, 0.914, 0.0617, 0.278, 182.985], ['4XdaaDFE881SlIaz31pTAG', b'Overkill', b'RIOT', 54, 342618, 2019, 0.435, 0.956, 8, -1.369, 0, 0.144, 0.000448, 0.655, 0.343, 0.103, 174.029], ['68ngtC3pGiTjXcFwxYCJ7Z', b'Diabolic', b'Dance With the Dead', 48, 259834, 2016, 0.639, 0.948, 4, -5.04, 0, 0.181, 0.000451, 0.372, 0.389, 0.328, 121.016], ['3BcEpBfEx2mOyCSJWIHSvu', b'Spoiler - Original Mix', b'Hyper', 58, 272000, 2014, 0.424, 0.797, 5, -2.321, 1, 0.0577, 0.000969, 0.841, 0.234, 0.223, 179.893], ['50fboiidqkAhrE5dNueFKR', b'Coffin Dance', b'Music Falcon', 53, 135846, 2020, 0.728, 0.479, 4, -10.786, 1, 0.0343, 0.00986, 0.733, 0.349, 0.117, 124.075], ['57gyM43T0UpoEIv7Kpg25N', b'Scatman - DJ Kadozer 2003 - Radio Edit', b'Scatman John', 43, 209466, 2003, 0.685, 0.989, 0, -6.48, 1, 0.0602, 0.0011, 0.267, 0.286, 0.743, 140.058], ['6DwHi4umhzJ1DP9LPtqohT', b'Liberty', b'Helix', 29, 199000, 2019, 0.485, 0.915, 6, -4.094, 0, 0.031, 0.00422, 0.00737, 0.154, 0.131, 150.103], ['5yThdwzdcxljk5cdGFQddw', b'The Spectre', b'KLIO', 28, 184347, 2020, 0.62, 0.582, 1, -9.204, 0, 0.029, 0.00239, 3.06e-05, 0.305, 0.304, 138.008], ['38eSx68XggWBuodmnI8son', b'Never Really Gone - Resensed Remix', b'Charizmatic', 25, 174400, 2020, 0.489, 0.917, 1, -2.5, 0, 0.0532, 0.00504, 3.15e-05, 0.618, 0.265, 150.001], ['1uhR3bpqvrf2QdrUemJCYe', b'All The Things She Said - Fernando Garibay Remix', b't.A.T.u.', 40, 241506, 2002, 0.65, 0.783, 8, -6.222, 1, 0.0983, 0.00306, 0.00587, 0.0979, 0.309, 89.958], ['4YhITuwINLCfXYB2WCXbCZ', b'', b'', 0, 0, 0, 0.597, 0.544, 1, -8.868, 0, 0.062, 0.00192, 0.0562, 0.07, 0.263, 105.014], ['3p07oZZpSNdVtN93M5yIY5', b'Zombie (Zombic & Felix Schorn Remix)', b'Besomorph', 59, 160000, 2020, 0.608, 0.828, 8, -7.841, 1, 0.125, 0.0158, 0.00465, 0.247, 0.398, 125.857], ['3LlmKSHR3Rs0Y3KHQLAYDk', b'Alone', b'Alan Walker', 76, 160426, 2018, 0.673, 0.914, 10, -3.962, 1, 0.0496, 0.229, 0.000478, 0.186, 0.183, 97.021], ['7a4wS53T33baaPfUxrVeEy', b'Bury the Light', b'Casey Edwards', 53, 580292, 2021, 0.378, 0.887, 2, -6.746, 0, 0.0803, 1.74e-05, 0.866, 0.124, 0.149, 149.999], ['0Yfpk8AuLdHYqyUb9uJmK3', b'Dead of the Night', b'Hallmore', 39, 169562, 2019, 0.633, 0.946, 6, -7.092, 0, 0.0694, 0.00687, 0.691, 0.205, 0.201, 127.947], ['1wt2AQNT5g527ZfM27t0SH', b'Bass Is Kicking (2005 Edit)', b'B-Bass vs. DJ Mds', 32, 223268, 2021, 0.518, 0.987, 5, -3.512, 1, 0.0496, 0.00194, 0.935, 0.128, 0.407, 142.921], ['7JYgv1PehJuJ35MjHaeStI', b'Drive Forever', b'd6ni4l', 0, 174594, 2021, 0.73, 0.432, 8, -12.227, 1, 0.0839, 0.246, 0.885, 0.111, 0.361, 91.634], ['39NBpzpV7oY6Yfb9AhfyVz', b'Abandon Ship', b'Simon Chylinski', 58, 103714, 2018, 0.663, 0.673, 9, -9.426, 1, 0.118, 0.131, 0.912, 0.103, 0.466, 140.029], ['7fVlbM9hxmv3Omz4UPcsy8', b'Brain Power', b'NOMA', 53, 118058, 2018, 0.321, 0.984, 11, -4.181, 1, 0.0559, 1.21e-05, 0, 0.403, 0.359, 170.162], ['5fR5g70reQO9WlE2yhsIVd', b'Crab Rave', b'RichaadEB', 39, 180000, 2019, 0.531, 0.948, 7, -5.67, 0, 0.0466, 0.000139, 0.969, 0.191, 0.299, 124.992], ['6rZpxLy1ojusaOlk6HhooW', b'Last Dance', b'Xomu', 42, 205400, 2019, 0.409, 0.963, 1, -4.58, 0, 0.037, 0.066, 0.317, 0.161, 0.164, 175.041], ['6kEFzKtWwWWfSyoW9tgcMs', b\"Dance 'till You're Dead (Remix)\", b'Soar', 40, 295117, 2019, 0.747, 0.779, 1, -3.668, 1, 0.0974, 0.0142, 4.28e-05, 0.102, 0.718, 128.003], ['1Oly93LYtFW36kRM9rHDrA', b'SPITFIRE', b'Go2', 28, 314702, 2018, 0.54, 0.967, 8, -3.996, 1, 0.106, 0.0021, 0.00739, 0.0689, 0.619, 157.199], ['2aMFRnAiWUcnDdqaHsSqTW', b'Back Again', b'Archie', 34, 322000, 2015, 0.76, 0.761, 8, -6.351, 1, 0.0524, 8.36e-05, 0.879, 0.0964, 0.838, 127.989], ['7ojWrhoZZJfyR7YmcYdTzq', b'United - L.A.O.S Remix', b'Our Stolen Theory', 42, 324000, 2012, 0.352, 0.988, 3, -4.138, 0, 0.068, 0.000295, 0.00494, 0.165, 0.685, 175.023], ['5gY1ktj7vpqDU2KqghBd9y', b'Libera Me From Hell - from \"Gurren Lagann\"', b'Rayden', 33, 383265, 2018, 0.469, 0.919, 11, -5.931, 0, 0.0746, 0.000894, 0.606, 0.139, 0.261, 178.034], ['7FADpmBJVWay6aHy8q34oa', b'Highscore', b'Panda Eyes', 55, 259967, 2015, 0.604, 0.854, 10, -4.797, 0, 0.0422, 0.00219, 0.859, 0.0631, 0.275, 109.981], ['14juitXdt9JqvBQAQP3i5L', b'Part Time God', b'The Bad Dreamers', 38, 217683, 2018, 0.682, 0.669, 10, -8.068, 0, 0.0803, 0.0471, 0.000484, 0.277, 0.548, 98.005], ['6HXVNP9mGsbTKG6ovKLzcH', b'Fringe Society', b'Sami Matar', 39, 222851, 2017, 0.504, 0.294, 8, -9.847, 1, 0.0296, 0.000748, 0.768, 0.172, 0.0382, 80.029], ['5sPkgogsCQFYKnYZMwkODz', b'The Arcane Arts', b'Arcis', 34, 172109, 2017, 0.638, 0.899, 8, -7.013, 1, 0.0774, 0.0001, 0.829, 0.118, 0.343, 114.993], ['4YyG15mMNRqjYCH3S7aBw0', b'Knightriders', b'Fury Weekend', 35, 281379, 2017, 0.575, 0.934, 2, -3.641, 0, 0.0441, 2.64e-05, 0.856, 0.147, 0.475, 116.018], ['0neQGBPQlP3WPPv1zKEyXU', b'WAITING', b'Kayzo', 26, 251200, 2018, 0.508, 0.929, 8, -3.018, 1, 0.142, 0.00099, 0.313, 0.0876, 0.227, 149.844], ['0UeYCHOETPfai02uskjJ3x', b'Shooting Stars', b'Bag Raiders', 67, 235813, 2011, 0.636, 0.72, 11, -6.195, 1, 0.0432, 0.0893, 0.0178, 0.0868, 0.425, 124.944], ['1AKGJQIHP3dIPuhOjdxD6a', b'Bitch Lasagna', b'pewdiepie', 56, 134416, 2018, 0.795, 0.789, 2, -5.21, 1, 0.259, 0.0138, 0, 0.113, 0.538, 149.961], ['14x9UseN928mYR4G1DRhRs', b'Ludicrous Speed 1', b'F-777', 41, 179408, 2015, 0.287, 0.959, 2, -8.358, 0, 0.388, 0.0123, 0.958, 0.323, 0.408, 165.787], ['6ndmKwWqMozN2tcZqzCX4K', b'Remember the Name (feat. Styles of Beyond)', b'Fort Minor', 73, 230493, 2005, 0.688, 0.835, 8, -4.162, 1, 0.0911, 0.0583, 2.87e-06, 0.0795, 0.88, 84.858], ['4dASQiO1Eoo3RJvt74FtXB', b'Sucker for Pain (with Wiz Khalifa, Imagine Dragons, Logic & Ty Dolla $ign feat. X Ambassadors)', b'Lil Wayne', 76, 243490, 2016, 0.502, 0.786, 9, -4.378, 0, 0.317, 0.255, 0, 0.65, 0.739, 169.021], ['0l1E291U7ZCyuDa2C3HVTX', b'Apologize', b'Besomorph', 63, 146665, 2020, 0.682, 0.62, 0, -8.077, 0, 0.0799, 0.228, 0, 0.284, 0.24, 128.064], ['6nQZG4G0vIrQWaCGbqHCQn', b'Down', b'Arc North', 53, 143500, 2020, 0.74, 0.692, 11, -6.488, 0, 0.0324, 0.108, 0.000342, 0.171, 0.666, 126.021], ['3wzvBEWGZEjibOSZm1Voac', b'Love You Like A Love Song', b'EQRIC', 42, 180983, 2020, 0.694, 0.878, 1, -4.941, 0, 0.0391, 0.105, 0, 0.227, 0.5, 121.975], ['3cNppb79LXe5codT1IEtFr', b'Losing Touch', b'Anthony Keyrouz', 33, 155496, 2020, 0.667, 0.949, 8, -5.074, 1, 0.224, 0.18, 0.00107, 0.0553, 0.142, 127.986], ['47qYqGPgMTh3l1PRKBHEfI', b'Unity', b'TheFatRat', 65, 249285, 2015, 0.707, 0.88, 4, -3.211, 0, 0.0317, 0.00424, 0.0379, 0.0534, 0.565, 105.003], ['4jp4Z02kzzg8gK0NmDGgml', b'Play', b'K-391', 71, 167976, 2019, 0.52, 0.798, 6, -5.498, 0, 0.0391, 0.101, 0, 0.0932, 0.168, 101.944], ['02shCNmb6IvgB5jLqKjtkK', b'Nevada', b'Vicetone', 72, 208561, 2016, 0.605, 0.783, 3, -4.271, 1, 0.0324, 0.299, 0.000175, 0.133, 0.105, 124.015], ['2BZYVqGyL1L1adBbq2ClVv', b'Dust', b'M|O|O|N', 55, 302400, 2012, 0.418, 0.659, 2, -7.958, 0, 0.0449, 0.0105, 0.878, 0.0727, 0.241, 100.007], ['46vKNalwMNPM53oI7pWl0d', b'Electrodynamix', b'dj-Nate', 47, 205087, 2017, 0.748, 0.735, 7, -6.012, 1, 0.173, 0.00105, 0.378, 0.0728, 0.24, 127.022], ['2tAeN2TKlQLOoSPXtARzBV', b'Eruption - 2015 Remaster', b'Van Halen', 64, 102080, 1978, 0.225, 0.689, 8, -9.12, 1, 0.0555, 0.469, 0.813, 0.337, 0.5, 93.798], ['3KhF2YiNpJvGpfiCW45R6D', b\"Runnin' with the Devil - 2015 Remaster\", b'Van Halen', 72, 214960, 1978, 0.472, 0.9, 8, -6.406, 0, 0.0582, 0.148, 0.000297, 0.34, 0.42, 95.826], ['25JBF1aUOagj0KZkxrNr8Q', b'Airborne Robots', b'F-777', 48, 271200, 2015, 0.485, 0.863, 7, -7.585, 0, 0.058, 0.000579, 0.965, 0.071, 0.106, 100.026], ['2GbtEH28VCEJIH9RiyFk78', b'Ludicrous Speed (2013 Version)', b'F-777', 26, 152117, 2015, 0.313, 0.997, 0, -7.13, 1, 0.678, 0.00319, 0.541, 0.35, 0.0396, 170.048], ['6CwaNTcdMuKzcioX0Krldt', b'Moskau', b'DOPEDROP', 45, 210105, 2018, 0.688, 0.856, 1, -6.826, 1, 0.162, 0.0561, 0.416, 0.292, 0.691, 128.094], ['5AAXvrvpClghVZIvk5wPqf', b'Soviet Connection \\xe2\\x80\\x94 The Theme from Grand Theft Auto IV', b'Michael Hunter', 56, 171486, 2010, 0.471, 0.608, 0, -7.73, 0, 0.0533, 0.218, 0.206, 0.13, 0.628, 146.048], ['0lMrWcrVXHPEuVBuc0nRzZ', b'', b'', 0, 0, 0, 0.804, 0.758, 4, -4.819, 1, 0.0483, 0.000875, 0.331, 0.125, 0.424, 127.946], ['725NSbIej5lP3GfhLC7So3', b'115', b'Elena Siegman', 66, 228160, 2011, 0.363, 0.933, 8, -3.808, 1, 0.175, 0.000105, 2.09e-06, 0.102, 0.676, 200.215], ['4COR2ZPEyUn0lsbAouRWxA', b'Bfg Division', b'Mick Gordon', 64, 506762, 2016, 0.284, 0.722, 7, -8.284, 1, 0.0559, 0.00461, 0.873, 0.163, 0.0383, 116.292], ['300oPI1fs0ZhQhPAX8Gn0y', b'Damned', b'Kevin Sherwood', 54, 98053, 2011, 0.435, 0.433, 2, -20.343, 0, 0.0348, 0.909, 0.963, 0.118, 0.26, 179.923], ['1JAqy8JxzsmMRq5jD2Oi49', b'Pirate', b'Liu', 54, 221775, 2017, 0.72, 0.781, 10, -2.647, 0, 0.0609, 0.00408, 0.807, 0.308, 0.307, 125.005], ['54OBgO0Xwu20Jak9TMXbR7', b'Wellerman - Sea Shanty', b'Nathan Evans', 75, 155333, 2021, 0.675, 0.359, 3, -5.157, 1, 0.108, 0.614, 0, 0.137, 0.792, 191.903], ['4Lh9y6lykMrLL3MBhx0CeO', b'Milky Ways', b'Bossfight', 55, 187540, 2012, 0.509, 0.981, 4, -1.986, 0, 0.0533, 0.000486, 0.914, 0.0617, 0.278, 182.985], ['4XdaaDFE881SlIaz31pTAG', b'Overkill', b'RIOT', 54, 342618, 2019, 0.435, 0.956, 8, -1.369, 0, 0.144, 0.000448, 0.655, 0.343, 0.103, 174.029], ['68ngtC3pGiTjXcFwxYCJ7Z', b'Diabolic', b'Dance With the Dead', 48, 259834, 2016, 0.639, 0.948, 4, -5.04, 0, 0.181, 0.000451, 0.372, 0.389, 0.328, 121.016], ['3BcEpBfEx2mOyCSJWIHSvu', b'Spoiler - Original Mix', b'Hyper', 58, 272000, 2014, 0.424, 0.797, 5, -2.321, 1, 0.0577, 0.000969, 0.841, 0.234, 0.223, 179.893], ['50fboiidqkAhrE5dNueFKR', b'Coffin Dance', b'Music Falcon', 53, 135846, 2020, 0.728, 0.479, 4, -10.786, 1, 0.0343, 0.00986, 0.733, 0.349, 0.117, 124.075], ['57gyM43T0UpoEIv7Kpg25N', b'Scatman - DJ Kadozer 2003 - Radio Edit', b'Scatman John', 43, 209466, 2003, 0.685, 0.989, 0, -6.48, 1, 0.0602, 0.0011, 0.267, 0.286, 0.743, 140.058], ['6DwHi4umhzJ1DP9LPtqohT', b'Liberty', b'Helix', 29, 199000, 2019, 0.485, 0.915, 6, -4.094, 0, 0.031, 0.00422, 0.00737, 0.154, 0.131, 150.103], ['5yThdwzdcxljk5cdGFQddw', b'The Spectre', b'KLIO', 28, 184347, 2020, 0.62, 0.582, 1, -9.204, 0, 0.029, 0.00239, 3.06e-05, 0.305, 0.304, 138.008], ['38eSx68XggWBuodmnI8son', b'Never Really Gone - Resensed Remix', b'Charizmatic', 25, 174400, 2020, 0.489, 0.917, 1, -2.5, 0, 0.0532, 0.00504, 3.15e-05, 0.618, 0.265, 150.001], ['1uhR3bpqvrf2QdrUemJCYe', b'All The Things She Said - Fernando Garibay Remix', b't.A.T.u.', 40, 241506, 2002, 0.65, 0.783, 8, -6.222, 1, 0.0983, 0.00306, 0.00587, 0.0979, 0.309, 89.958], ['4YhITuwINLCfXYB2WCXbCZ', b'', b'', 0, 0, 0, 0.597, 0.544, 1, -8.868, 0, 0.062, 0.00192, 0.0562, 0.07, 0.263, 105.014], ['3p07oZZpSNdVtN93M5yIY5', b'Zombie (Zombic & Felix Schorn Remix)', b'Besomorph', 59, 160000, 2020, 0.608, 0.828, 8, -7.841, 1, 0.125, 0.0158, 0.00465, 0.247, 0.398, 125.857], ['3LlmKSHR3Rs0Y3KHQLAYDk', b'Alone', b'Alan Walker', 76, 160426, 2018, 0.673, 0.914, 10, -3.962, 1, 0.0496, 0.229, 0.000478, 0.186, 0.183, 97.021], ['7a4wS53T33baaPfUxrVeEy', b'Bury the Light', b'Casey Edwards', 53, 580292, 2021, 0.378, 0.887, 2, -6.746, 0, 0.0803, 1.74e-05, 0.866, 0.124, 0.149, 149.999], ['0Yfpk8AuLdHYqyUb9uJmK3', b'Dead of the Night', b'Hallmore', 39, 169562, 2019, 0.633, 0.946, 6, -7.092, 0, 0.0694, 0.00687, 0.691, 0.205, 0.201, 127.947], ['1wt2AQNT5g527ZfM27t0SH', b'Bass Is Kicking (2005 Edit)', b'B-Bass vs. DJ Mds', 32, 223268, 2021, 0.518, 0.987, 5, -3.512, 1, 0.0496, 0.00194, 0.935, 0.128, 0.407, 142.921], ['7JYgv1PehJuJ35MjHaeStI', b'Drive Forever', b'd6ni4l', 0, 174594, 2021, 0.73, 0.432, 8, -12.227, 1, 0.0839, 0.246, 0.885, 0.111, 0.361, 91.634], ['39NBpzpV7oY6Yfb9AhfyVz', b'Abandon Ship', b'Simon Chylinski', 58, 103714, 2018, 0.663, 0.673, 9, -9.426, 1, 0.118, 0.131, 0.912, 0.103, 0.466, 140.029], ['7fVlbM9hxmv3Omz4UPcsy8', b'Brain Power', b'NOMA', 53, 118058, 2018, 0.321, 0.984, 11, -4.181, 1, 0.0559, 1.21e-05, 0, 0.403, 0.359, 170.162], ['5fR5g70reQO9WlE2yhsIVd', b'Crab Rave', b'RichaadEB', 39, 180000, 2019, 0.531, 0.948, 7, -5.67, 0, 0.0466, 0.000139, 0.969, 0.191, 0.299, 124.992], ['6rZpxLy1ojusaOlk6HhooW', b'Last Dance', b'Xomu', 42, 205400, 2019, 0.409, 0.963, 1, -4.58, 0, 0.037, 0.066, 0.317, 0.161, 0.164, 175.041], ['6kEFzKtWwWWfSyoW9tgcMs', b\"Dance 'till You're Dead (Remix)\", b'Soar', 40, 295117, 2019, 0.747, 0.779, 1, -3.668, 1, 0.0974, 0.0142, 4.28e-05, 0.102, 0.718, 128.003], ['1Oly93LYtFW36kRM9rHDrA', b'SPITFIRE', b'Go2', 28, 314702, 2018, 0.54, 0.967, 8, -3.996, 1, 0.106, 0.0021, 0.00739, 0.0689, 0.619, 157.199], ['2aMFRnAiWUcnDdqaHsSqTW', b'Back Again', b'Archie', 34, 322000, 2015, 0.76, 0.761, 8, -6.351, 1, 0.0524, 8.36e-05, 0.879, 0.0964, 0.838, 127.989], ['7ojWrhoZZJfyR7YmcYdTzq', b'United - L.A.O.S Remix', b'Our Stolen Theory', 42, 324000, 2012, 0.352, 0.988, 3, -4.138, 0, 0.068, 0.000295, 0.00494, 0.165, 0.685, 175.023], ['5gY1ktj7vpqDU2KqghBd9y', b'Libera Me From Hell - from \"Gurren Lagann\"', b'Rayden', 33, 383265, 2018, 0.469, 0.919, 11, -5.931, 0, 0.0746, 0.000894, 0.606, 0.139, 0.261, 178.034], ['7FADpmBJVWay6aHy8q34oa', b'Highscore', b'Panda Eyes', 55, 259967, 2015, 0.604, 0.854, 10, -4.797, 0, 0.0422, 0.00219, 0.859, 0.0631, 0.275, 109.981]]\n"
     ]
    }
   ],
   "source": [
    "token = getToken() \n",
    "print('access token : '+token) \n",
    "getPlaylistItems(token, playlistId)"
   ]
  },
  {
   "cell_type": "code",
   "execution_count": 9,
   "metadata": {},
   "outputs": [
    {
     "data": {
      "text/html": [
       "<div>\n",
       "<style scoped>\n",
       "    .dataframe tbody tr th:only-of-type {\n",
       "        vertical-align: middle;\n",
       "    }\n",
       "\n",
       "    .dataframe tbody tr th {\n",
       "        vertical-align: top;\n",
       "    }\n",
       "\n",
       "    .dataframe thead th {\n",
       "        text-align: right;\n",
       "    }\n",
       "</style>\n",
       "<table border=\"1\" class=\"dataframe\">\n",
       "  <thead>\n",
       "    <tr style=\"text-align: right;\">\n",
       "      <th></th>\n",
       "      <th>id</th>\n",
       "      <th>name</th>\n",
       "      <th>artist</th>\n",
       "      <th>popularity</th>\n",
       "      <th>duration_ms</th>\n",
       "      <th>year</th>\n",
       "      <th>danceability</th>\n",
       "      <th>energy</th>\n",
       "      <th>key</th>\n",
       "      <th>loudness</th>\n",
       "      <th>mode</th>\n",
       "      <th>speechiness</th>\n",
       "      <th>acousticness</th>\n",
       "      <th>instrumentalness</th>\n",
       "      <th>liveness</th>\n",
       "      <th>valence</th>\n",
       "      <th>tempo</th>\n",
       "    </tr>\n",
       "  </thead>\n",
       "  <tbody>\n",
       "    <tr>\n",
       "      <th>0</th>\n",
       "      <td>14juitXdt9JqvBQAQP3i5L</td>\n",
       "      <td>b'Part Time God'</td>\n",
       "      <td>b'The Bad Dreamers'</td>\n",
       "      <td>38</td>\n",
       "      <td>217683</td>\n",
       "      <td>2018</td>\n",
       "      <td>0.682</td>\n",
       "      <td>0.669</td>\n",
       "      <td>10</td>\n",
       "      <td>-8.068</td>\n",
       "      <td>0</td>\n",
       "      <td>0.0803</td>\n",
       "      <td>0.047100</td>\n",
       "      <td>0.000484</td>\n",
       "      <td>0.2770</td>\n",
       "      <td>0.5480</td>\n",
       "      <td>98.005</td>\n",
       "    </tr>\n",
       "    <tr>\n",
       "      <th>1</th>\n",
       "      <td>6HXVNP9mGsbTKG6ovKLzcH</td>\n",
       "      <td>b'Fringe Society'</td>\n",
       "      <td>b'Sami Matar'</td>\n",
       "      <td>39</td>\n",
       "      <td>222851</td>\n",
       "      <td>2017</td>\n",
       "      <td>0.504</td>\n",
       "      <td>0.294</td>\n",
       "      <td>8</td>\n",
       "      <td>-9.847</td>\n",
       "      <td>1</td>\n",
       "      <td>0.0296</td>\n",
       "      <td>0.000748</td>\n",
       "      <td>0.768000</td>\n",
       "      <td>0.1720</td>\n",
       "      <td>0.0382</td>\n",
       "      <td>80.029</td>\n",
       "    </tr>\n",
       "    <tr>\n",
       "      <th>2</th>\n",
       "      <td>5sPkgogsCQFYKnYZMwkODz</td>\n",
       "      <td>b'The Arcane Arts'</td>\n",
       "      <td>b'Arcis'</td>\n",
       "      <td>34</td>\n",
       "      <td>172109</td>\n",
       "      <td>2017</td>\n",
       "      <td>0.638</td>\n",
       "      <td>0.899</td>\n",
       "      <td>8</td>\n",
       "      <td>-7.013</td>\n",
       "      <td>1</td>\n",
       "      <td>0.0774</td>\n",
       "      <td>0.000100</td>\n",
       "      <td>0.829000</td>\n",
       "      <td>0.1180</td>\n",
       "      <td>0.3430</td>\n",
       "      <td>114.993</td>\n",
       "    </tr>\n",
       "    <tr>\n",
       "      <th>3</th>\n",
       "      <td>4YyG15mMNRqjYCH3S7aBw0</td>\n",
       "      <td>b'Knightriders'</td>\n",
       "      <td>b'Fury Weekend'</td>\n",
       "      <td>35</td>\n",
       "      <td>281379</td>\n",
       "      <td>2017</td>\n",
       "      <td>0.575</td>\n",
       "      <td>0.934</td>\n",
       "      <td>2</td>\n",
       "      <td>-3.641</td>\n",
       "      <td>0</td>\n",
       "      <td>0.0441</td>\n",
       "      <td>0.000026</td>\n",
       "      <td>0.856000</td>\n",
       "      <td>0.1470</td>\n",
       "      <td>0.4750</td>\n",
       "      <td>116.018</td>\n",
       "    </tr>\n",
       "    <tr>\n",
       "      <th>4</th>\n",
       "      <td>0neQGBPQlP3WPPv1zKEyXU</td>\n",
       "      <td>b'WAITING'</td>\n",
       "      <td>b'Kayzo'</td>\n",
       "      <td>26</td>\n",
       "      <td>251200</td>\n",
       "      <td>2018</td>\n",
       "      <td>0.508</td>\n",
       "      <td>0.929</td>\n",
       "      <td>8</td>\n",
       "      <td>-3.018</td>\n",
       "      <td>1</td>\n",
       "      <td>0.1420</td>\n",
       "      <td>0.000990</td>\n",
       "      <td>0.313000</td>\n",
       "      <td>0.0876</td>\n",
       "      <td>0.2270</td>\n",
       "      <td>149.844</td>\n",
       "    </tr>\n",
       "  </tbody>\n",
       "</table>\n",
       "</div>"
      ],
      "text/plain": [
       "                       id                name               artist  \\\n",
       "0  14juitXdt9JqvBQAQP3i5L    b'Part Time God'  b'The Bad Dreamers'   \n",
       "1  6HXVNP9mGsbTKG6ovKLzcH   b'Fringe Society'        b'Sami Matar'   \n",
       "2  5sPkgogsCQFYKnYZMwkODz  b'The Arcane Arts'             b'Arcis'   \n",
       "3  4YyG15mMNRqjYCH3S7aBw0     b'Knightriders'      b'Fury Weekend'   \n",
       "4  0neQGBPQlP3WPPv1zKEyXU          b'WAITING'             b'Kayzo'   \n",
       "\n",
       "   popularity  duration_ms  year  danceability  energy  key  loudness  mode  \\\n",
       "0          38       217683  2018         0.682   0.669   10    -8.068     0   \n",
       "1          39       222851  2017         0.504   0.294    8    -9.847     1   \n",
       "2          34       172109  2017         0.638   0.899    8    -7.013     1   \n",
       "3          35       281379  2017         0.575   0.934    2    -3.641     0   \n",
       "4          26       251200  2018         0.508   0.929    8    -3.018     1   \n",
       "\n",
       "   speechiness  acousticness  instrumentalness  liveness  valence    tempo  \n",
       "0       0.0803      0.047100          0.000484    0.2770   0.5480   98.005  \n",
       "1       0.0296      0.000748          0.768000    0.1720   0.0382   80.029  \n",
       "2       0.0774      0.000100          0.829000    0.1180   0.3430  114.993  \n",
       "3       0.0441      0.000026          0.856000    0.1470   0.4750  116.018  \n",
       "4       0.1420      0.000990          0.313000    0.0876   0.2270  149.844  "
      ]
     },
     "execution_count": 9,
     "metadata": {},
     "output_type": "execute_result"
    }
   ],
   "source": [
    "import pandas as pd\n",
    "import numpy as np\n",
    "\n",
    "from sklearn.cluster import KMeans\n",
    "from sklearn.decomposition import PCA\n",
    "\n",
    "import plotly.express as px \n",
    "\n",
    "data = pd.read_csv('dataset.csv')\n",
    "data.head()"
   ]
  },
  {
   "cell_type": "code",
   "execution_count": 10,
   "metadata": {},
   "outputs": [
    {
     "data": {
      "text/html": [
       "<div>\n",
       "<style scoped>\n",
       "    .dataframe tbody tr th:only-of-type {\n",
       "        vertical-align: middle;\n",
       "    }\n",
       "\n",
       "    .dataframe tbody tr th {\n",
       "        vertical-align: top;\n",
       "    }\n",
       "\n",
       "    .dataframe thead th {\n",
       "        text-align: right;\n",
       "    }\n",
       "</style>\n",
       "<table border=\"1\" class=\"dataframe\">\n",
       "  <thead>\n",
       "    <tr style=\"text-align: right;\">\n",
       "      <th></th>\n",
       "      <th>id</th>\n",
       "      <th>name</th>\n",
       "      <th>artist</th>\n",
       "      <th>popularity</th>\n",
       "      <th>duration_ms</th>\n",
       "      <th>year</th>\n",
       "      <th>danceability</th>\n",
       "      <th>energy</th>\n",
       "      <th>key</th>\n",
       "      <th>loudness</th>\n",
       "      <th>mode</th>\n",
       "      <th>speechiness</th>\n",
       "      <th>acousticness</th>\n",
       "      <th>instrumentalness</th>\n",
       "      <th>liveness</th>\n",
       "      <th>valence</th>\n",
       "      <th>tempo</th>\n",
       "    </tr>\n",
       "  </thead>\n",
       "  <tbody>\n",
       "    <tr>\n",
       "      <th>0</th>\n",
       "      <td>14juitXdt9JqvBQAQP3i5L</td>\n",
       "      <td>Part Time God</td>\n",
       "      <td>The Bad Dreamers</td>\n",
       "      <td>38</td>\n",
       "      <td>217683</td>\n",
       "      <td>2018</td>\n",
       "      <td>0.682</td>\n",
       "      <td>0.669</td>\n",
       "      <td>10</td>\n",
       "      <td>-8.068</td>\n",
       "      <td>0</td>\n",
       "      <td>0.0803</td>\n",
       "      <td>0.047100</td>\n",
       "      <td>0.000484</td>\n",
       "      <td>0.2770</td>\n",
       "      <td>0.5480</td>\n",
       "      <td>98.005</td>\n",
       "    </tr>\n",
       "    <tr>\n",
       "      <th>1</th>\n",
       "      <td>6HXVNP9mGsbTKG6ovKLzcH</td>\n",
       "      <td>Fringe Society</td>\n",
       "      <td>Sami Matar</td>\n",
       "      <td>39</td>\n",
       "      <td>222851</td>\n",
       "      <td>2017</td>\n",
       "      <td>0.504</td>\n",
       "      <td>0.294</td>\n",
       "      <td>8</td>\n",
       "      <td>-9.847</td>\n",
       "      <td>1</td>\n",
       "      <td>0.0296</td>\n",
       "      <td>0.000748</td>\n",
       "      <td>0.768000</td>\n",
       "      <td>0.1720</td>\n",
       "      <td>0.0382</td>\n",
       "      <td>80.029</td>\n",
       "    </tr>\n",
       "    <tr>\n",
       "      <th>2</th>\n",
       "      <td>5sPkgogsCQFYKnYZMwkODz</td>\n",
       "      <td>The Arcane Arts</td>\n",
       "      <td>Arcis</td>\n",
       "      <td>34</td>\n",
       "      <td>172109</td>\n",
       "      <td>2017</td>\n",
       "      <td>0.638</td>\n",
       "      <td>0.899</td>\n",
       "      <td>8</td>\n",
       "      <td>-7.013</td>\n",
       "      <td>1</td>\n",
       "      <td>0.0774</td>\n",
       "      <td>0.000100</td>\n",
       "      <td>0.829000</td>\n",
       "      <td>0.1180</td>\n",
       "      <td>0.3430</td>\n",
       "      <td>114.993</td>\n",
       "    </tr>\n",
       "    <tr>\n",
       "      <th>3</th>\n",
       "      <td>4YyG15mMNRqjYCH3S7aBw0</td>\n",
       "      <td>Knightriders</td>\n",
       "      <td>Fury Weekend</td>\n",
       "      <td>35</td>\n",
       "      <td>281379</td>\n",
       "      <td>2017</td>\n",
       "      <td>0.575</td>\n",
       "      <td>0.934</td>\n",
       "      <td>2</td>\n",
       "      <td>-3.641</td>\n",
       "      <td>0</td>\n",
       "      <td>0.0441</td>\n",
       "      <td>0.000026</td>\n",
       "      <td>0.856000</td>\n",
       "      <td>0.1470</td>\n",
       "      <td>0.4750</td>\n",
       "      <td>116.018</td>\n",
       "    </tr>\n",
       "    <tr>\n",
       "      <th>4</th>\n",
       "      <td>0neQGBPQlP3WPPv1zKEyXU</td>\n",
       "      <td>WAITING</td>\n",
       "      <td>Kayzo</td>\n",
       "      <td>26</td>\n",
       "      <td>251200</td>\n",
       "      <td>2018</td>\n",
       "      <td>0.508</td>\n",
       "      <td>0.929</td>\n",
       "      <td>8</td>\n",
       "      <td>-3.018</td>\n",
       "      <td>1</td>\n",
       "      <td>0.1420</td>\n",
       "      <td>0.000990</td>\n",
       "      <td>0.313000</td>\n",
       "      <td>0.0876</td>\n",
       "      <td>0.2270</td>\n",
       "      <td>149.844</td>\n",
       "    </tr>\n",
       "  </tbody>\n",
       "</table>\n",
       "</div>"
      ],
      "text/plain": [
       "                       id             name            artist  popularity  \\\n",
       "0  14juitXdt9JqvBQAQP3i5L    Part Time God  The Bad Dreamers          38   \n",
       "1  6HXVNP9mGsbTKG6ovKLzcH   Fringe Society        Sami Matar          39   \n",
       "2  5sPkgogsCQFYKnYZMwkODz  The Arcane Arts             Arcis          34   \n",
       "3  4YyG15mMNRqjYCH3S7aBw0     Knightriders      Fury Weekend          35   \n",
       "4  0neQGBPQlP3WPPv1zKEyXU          WAITING             Kayzo          26   \n",
       "\n",
       "   duration_ms  year  danceability  energy  key  loudness  mode  speechiness  \\\n",
       "0       217683  2018         0.682   0.669   10    -8.068     0       0.0803   \n",
       "1       222851  2017         0.504   0.294    8    -9.847     1       0.0296   \n",
       "2       172109  2017         0.638   0.899    8    -7.013     1       0.0774   \n",
       "3       281379  2017         0.575   0.934    2    -3.641     0       0.0441   \n",
       "4       251200  2018         0.508   0.929    8    -3.018     1       0.1420   \n",
       "\n",
       "   acousticness  instrumentalness  liveness  valence    tempo  \n",
       "0      0.047100          0.000484    0.2770   0.5480   98.005  \n",
       "1      0.000748          0.768000    0.1720   0.0382   80.029  \n",
       "2      0.000100          0.829000    0.1180   0.3430  114.993  \n",
       "3      0.000026          0.856000    0.1470   0.4750  116.018  \n",
       "4      0.000990          0.313000    0.0876   0.2270  149.844  "
      ]
     },
     "execution_count": 10,
     "metadata": {},
     "output_type": "execute_result"
    }
   ],
   "source": [
    "data['artist'] = data['artist'].map(lambda x: str(x)[2:-1])\n",
    "data['name'] = data['name'].map(lambda x: str(x)[2:-1])\n",
    "\n",
    "data.head()"
   ]
  },
  {
   "cell_type": "code",
   "execution_count": 11,
   "metadata": {},
   "outputs": [
    {
     "data": {
      "text/html": [
       "<div>\n",
       "<style scoped>\n",
       "    .dataframe tbody tr th:only-of-type {\n",
       "        vertical-align: middle;\n",
       "    }\n",
       "\n",
       "    .dataframe tbody tr th {\n",
       "        vertical-align: top;\n",
       "    }\n",
       "\n",
       "    .dataframe thead th {\n",
       "        text-align: right;\n",
       "    }\n",
       "</style>\n",
       "<table border=\"1\" class=\"dataframe\">\n",
       "  <thead>\n",
       "    <tr style=\"text-align: right;\">\n",
       "      <th></th>\n",
       "      <th>id</th>\n",
       "      <th>name</th>\n",
       "      <th>artist</th>\n",
       "      <th>popularity</th>\n",
       "      <th>duration_ms</th>\n",
       "      <th>year</th>\n",
       "      <th>danceability</th>\n",
       "      <th>energy</th>\n",
       "      <th>key</th>\n",
       "      <th>loudness</th>\n",
       "      <th>mode</th>\n",
       "      <th>speechiness</th>\n",
       "      <th>acousticness</th>\n",
       "      <th>instrumentalness</th>\n",
       "      <th>liveness</th>\n",
       "      <th>valence</th>\n",
       "      <th>tempo</th>\n",
       "    </tr>\n",
       "  </thead>\n",
       "  <tbody>\n",
       "    <tr>\n",
       "      <th>0</th>\n",
       "      <td>14juitXdt9JqvBQAQP3i5L</td>\n",
       "      <td>Part Time God</td>\n",
       "      <td>The Bad Dreamers</td>\n",
       "      <td>38</td>\n",
       "      <td>217683</td>\n",
       "      <td>2018</td>\n",
       "      <td>0.682</td>\n",
       "      <td>0.669</td>\n",
       "      <td>10</td>\n",
       "      <td>-8.068</td>\n",
       "      <td>0</td>\n",
       "      <td>0.0803</td>\n",
       "      <td>0.047100</td>\n",
       "      <td>0.000484</td>\n",
       "      <td>0.2770</td>\n",
       "      <td>0.5480</td>\n",
       "      <td>98.005</td>\n",
       "    </tr>\n",
       "    <tr>\n",
       "      <th>1</th>\n",
       "      <td>6HXVNP9mGsbTKG6ovKLzcH</td>\n",
       "      <td>Fringe Society</td>\n",
       "      <td>Sami Matar</td>\n",
       "      <td>39</td>\n",
       "      <td>222851</td>\n",
       "      <td>2017</td>\n",
       "      <td>0.504</td>\n",
       "      <td>0.294</td>\n",
       "      <td>8</td>\n",
       "      <td>-9.847</td>\n",
       "      <td>1</td>\n",
       "      <td>0.0296</td>\n",
       "      <td>0.000748</td>\n",
       "      <td>0.768000</td>\n",
       "      <td>0.1720</td>\n",
       "      <td>0.0382</td>\n",
       "      <td>80.029</td>\n",
       "    </tr>\n",
       "    <tr>\n",
       "      <th>2</th>\n",
       "      <td>5sPkgogsCQFYKnYZMwkODz</td>\n",
       "      <td>The Arcane Arts</td>\n",
       "      <td>Arcis</td>\n",
       "      <td>34</td>\n",
       "      <td>172109</td>\n",
       "      <td>2017</td>\n",
       "      <td>0.638</td>\n",
       "      <td>0.899</td>\n",
       "      <td>8</td>\n",
       "      <td>-7.013</td>\n",
       "      <td>1</td>\n",
       "      <td>0.0774</td>\n",
       "      <td>0.000100</td>\n",
       "      <td>0.829000</td>\n",
       "      <td>0.1180</td>\n",
       "      <td>0.3430</td>\n",
       "      <td>114.993</td>\n",
       "    </tr>\n",
       "    <tr>\n",
       "      <th>3</th>\n",
       "      <td>4YyG15mMNRqjYCH3S7aBw0</td>\n",
       "      <td>Knightriders</td>\n",
       "      <td>Fury Weekend</td>\n",
       "      <td>35</td>\n",
       "      <td>281379</td>\n",
       "      <td>2017</td>\n",
       "      <td>0.575</td>\n",
       "      <td>0.934</td>\n",
       "      <td>2</td>\n",
       "      <td>-3.641</td>\n",
       "      <td>0</td>\n",
       "      <td>0.0441</td>\n",
       "      <td>0.000026</td>\n",
       "      <td>0.856000</td>\n",
       "      <td>0.1470</td>\n",
       "      <td>0.4750</td>\n",
       "      <td>116.018</td>\n",
       "    </tr>\n",
       "    <tr>\n",
       "      <th>4</th>\n",
       "      <td>0neQGBPQlP3WPPv1zKEyXU</td>\n",
       "      <td>WAITING</td>\n",
       "      <td>Kayzo</td>\n",
       "      <td>26</td>\n",
       "      <td>251200</td>\n",
       "      <td>2018</td>\n",
       "      <td>0.508</td>\n",
       "      <td>0.929</td>\n",
       "      <td>8</td>\n",
       "      <td>-3.018</td>\n",
       "      <td>1</td>\n",
       "      <td>0.1420</td>\n",
       "      <td>0.000990</td>\n",
       "      <td>0.313000</td>\n",
       "      <td>0.0876</td>\n",
       "      <td>0.2270</td>\n",
       "      <td>149.844</td>\n",
       "    </tr>\n",
       "  </tbody>\n",
       "</table>\n",
       "</div>"
      ],
      "text/plain": [
       "                       id             name            artist  popularity  \\\n",
       "0  14juitXdt9JqvBQAQP3i5L    Part Time God  The Bad Dreamers          38   \n",
       "1  6HXVNP9mGsbTKG6ovKLzcH   Fringe Society        Sami Matar          39   \n",
       "2  5sPkgogsCQFYKnYZMwkODz  The Arcane Arts             Arcis          34   \n",
       "3  4YyG15mMNRqjYCH3S7aBw0     Knightriders      Fury Weekend          35   \n",
       "4  0neQGBPQlP3WPPv1zKEyXU          WAITING             Kayzo          26   \n",
       "\n",
       "   duration_ms  year  danceability  energy  key  loudness  mode  speechiness  \\\n",
       "0       217683  2018         0.682   0.669   10    -8.068     0       0.0803   \n",
       "1       222851  2017         0.504   0.294    8    -9.847     1       0.0296   \n",
       "2       172109  2017         0.638   0.899    8    -7.013     1       0.0774   \n",
       "3       281379  2017         0.575   0.934    2    -3.641     0       0.0441   \n",
       "4       251200  2018         0.508   0.929    8    -3.018     1       0.1420   \n",
       "\n",
       "   acousticness  instrumentalness  liveness  valence    tempo  \n",
       "0      0.047100          0.000484    0.2770   0.5480   98.005  \n",
       "1      0.000748          0.768000    0.1720   0.0382   80.029  \n",
       "2      0.000100          0.829000    0.1180   0.3430  114.993  \n",
       "3      0.000026          0.856000    0.1470   0.4750  116.018  \n",
       "4      0.000990          0.313000    0.0876   0.2270  149.844  "
      ]
     },
     "execution_count": 11,
     "metadata": {},
     "output_type": "execute_result"
    }
   ],
   "source": [
    "data = data[data['name'] != '']\n",
    "\n",
    "data = data.reset_index(drop=True)\n",
    "data.head()"
   ]
  },
  {
   "cell_type": "code",
   "execution_count": 12,
   "metadata": {},
   "outputs": [
    {
     "data": {
      "text/html": [
       "<div>\n",
       "<style scoped>\n",
       "    .dataframe tbody tr th:only-of-type {\n",
       "        vertical-align: middle;\n",
       "    }\n",
       "\n",
       "    .dataframe tbody tr th {\n",
       "        vertical-align: top;\n",
       "    }\n",
       "\n",
       "    .dataframe thead th {\n",
       "        text-align: right;\n",
       "    }\n",
       "</style>\n",
       "<table border=\"1\" class=\"dataframe\">\n",
       "  <thead>\n",
       "    <tr style=\"text-align: right;\">\n",
       "      <th></th>\n",
       "      <th>danceability</th>\n",
       "      <th>energy</th>\n",
       "      <th>loudness</th>\n",
       "      <th>speechiness</th>\n",
       "      <th>acousticness</th>\n",
       "      <th>instrumentalness</th>\n",
       "      <th>liveness</th>\n",
       "      <th>valence</th>\n",
       "      <th>tempo</th>\n",
       "    </tr>\n",
       "  </thead>\n",
       "  <tbody>\n",
       "    <tr>\n",
       "      <th>0</th>\n",
       "      <td>0.682</td>\n",
       "      <td>0.669</td>\n",
       "      <td>-8.068</td>\n",
       "      <td>0.0803</td>\n",
       "      <td>0.047100</td>\n",
       "      <td>0.000484</td>\n",
       "      <td>0.2770</td>\n",
       "      <td>0.5480</td>\n",
       "      <td>98.005</td>\n",
       "    </tr>\n",
       "    <tr>\n",
       "      <th>1</th>\n",
       "      <td>0.504</td>\n",
       "      <td>0.294</td>\n",
       "      <td>-9.847</td>\n",
       "      <td>0.0296</td>\n",
       "      <td>0.000748</td>\n",
       "      <td>0.768000</td>\n",
       "      <td>0.1720</td>\n",
       "      <td>0.0382</td>\n",
       "      <td>80.029</td>\n",
       "    </tr>\n",
       "    <tr>\n",
       "      <th>2</th>\n",
       "      <td>0.638</td>\n",
       "      <td>0.899</td>\n",
       "      <td>-7.013</td>\n",
       "      <td>0.0774</td>\n",
       "      <td>0.000100</td>\n",
       "      <td>0.829000</td>\n",
       "      <td>0.1180</td>\n",
       "      <td>0.3430</td>\n",
       "      <td>114.993</td>\n",
       "    </tr>\n",
       "    <tr>\n",
       "      <th>3</th>\n",
       "      <td>0.575</td>\n",
       "      <td>0.934</td>\n",
       "      <td>-3.641</td>\n",
       "      <td>0.0441</td>\n",
       "      <td>0.000026</td>\n",
       "      <td>0.856000</td>\n",
       "      <td>0.1470</td>\n",
       "      <td>0.4750</td>\n",
       "      <td>116.018</td>\n",
       "    </tr>\n",
       "    <tr>\n",
       "      <th>4</th>\n",
       "      <td>0.508</td>\n",
       "      <td>0.929</td>\n",
       "      <td>-3.018</td>\n",
       "      <td>0.1420</td>\n",
       "      <td>0.000990</td>\n",
       "      <td>0.313000</td>\n",
       "      <td>0.0876</td>\n",
       "      <td>0.2270</td>\n",
       "      <td>149.844</td>\n",
       "    </tr>\n",
       "  </tbody>\n",
       "</table>\n",
       "</div>"
      ],
      "text/plain": [
       "   danceability  energy  loudness  speechiness  acousticness  \\\n",
       "0         0.682   0.669    -8.068       0.0803      0.047100   \n",
       "1         0.504   0.294    -9.847       0.0296      0.000748   \n",
       "2         0.638   0.899    -7.013       0.0774      0.000100   \n",
       "3         0.575   0.934    -3.641       0.0441      0.000026   \n",
       "4         0.508   0.929    -3.018       0.1420      0.000990   \n",
       "\n",
       "   instrumentalness  liveness  valence    tempo  \n",
       "0          0.000484    0.2770   0.5480   98.005  \n",
       "1          0.768000    0.1720   0.0382   80.029  \n",
       "2          0.829000    0.1180   0.3430  114.993  \n",
       "3          0.856000    0.1470   0.4750  116.018  \n",
       "4          0.313000    0.0876   0.2270  149.844  "
      ]
     },
     "execution_count": 12,
     "metadata": {},
     "output_type": "execute_result"
    }
   ],
   "source": [
    "data2 = data.copy()\n",
    "data2 = data2.drop(['artist', 'name', 'year', 'popularity', 'key','duration_ms', 'mode', 'id'], axis=1)\n",
    "\n",
    "data2.head()"
   ]
  },
  {
   "cell_type": "code",
   "execution_count": 13,
   "metadata": {},
   "outputs": [
    {
     "data": {
      "text/html": [
       "<div>\n",
       "<style scoped>\n",
       "    .dataframe tbody tr th:only-of-type {\n",
       "        vertical-align: middle;\n",
       "    }\n",
       "\n",
       "    .dataframe tbody tr th {\n",
       "        vertical-align: top;\n",
       "    }\n",
       "\n",
       "    .dataframe thead th {\n",
       "        text-align: right;\n",
       "    }\n",
       "</style>\n",
       "<table border=\"1\" class=\"dataframe\">\n",
       "  <thead>\n",
       "    <tr style=\"text-align: right;\">\n",
       "      <th></th>\n",
       "      <th>acousticness</th>\n",
       "      <th>danceability</th>\n",
       "      <th>energy</th>\n",
       "      <th>instrumentalness</th>\n",
       "      <th>loudness</th>\n",
       "      <th>liveness</th>\n",
       "      <th>speechiness</th>\n",
       "      <th>tempo</th>\n",
       "      <th>valence</th>\n",
       "    </tr>\n",
       "  </thead>\n",
       "  <tbody>\n",
       "    <tr>\n",
       "      <th>count</th>\n",
       "      <td>112.000000</td>\n",
       "      <td>112.000000</td>\n",
       "      <td>112.000000</td>\n",
       "      <td>112.000000</td>\n",
       "      <td>112.000000</td>\n",
       "      <td>112.000000</td>\n",
       "      <td>112.000000</td>\n",
       "      <td>112.000000</td>\n",
       "      <td>112.000000</td>\n",
       "    </tr>\n",
       "    <tr>\n",
       "      <th>mean</th>\n",
       "      <td>0.586685</td>\n",
       "      <td>0.728053</td>\n",
       "      <td>0.751623</td>\n",
       "      <td>0.108455</td>\n",
       "      <td>0.092037</td>\n",
       "      <td>0.411947</td>\n",
       "      <td>0.236606</td>\n",
       "      <td>0.402855</td>\n",
       "      <td>0.453614</td>\n",
       "    </tr>\n",
       "    <tr>\n",
       "      <th>std</th>\n",
       "      <td>0.250737</td>\n",
       "      <td>0.241278</td>\n",
       "      <td>0.158212</td>\n",
       "      <td>0.163875</td>\n",
       "      <td>0.182343</td>\n",
       "      <td>0.411207</td>\n",
       "      <td>0.218415</td>\n",
       "      <td>0.266717</td>\n",
       "      <td>0.249533</td>\n",
       "    </tr>\n",
       "    <tr>\n",
       "      <th>min</th>\n",
       "      <td>0.000000</td>\n",
       "      <td>0.000000</td>\n",
       "      <td>0.000000</td>\n",
       "      <td>0.000000</td>\n",
       "      <td>0.000000</td>\n",
       "      <td>0.000000</td>\n",
       "      <td>0.000000</td>\n",
       "      <td>0.000000</td>\n",
       "      <td>0.000000</td>\n",
       "    </tr>\n",
       "    <tr>\n",
       "      <th>25%</th>\n",
       "      <td>0.430702</td>\n",
       "      <td>0.608108</td>\n",
       "      <td>0.670483</td>\n",
       "      <td>0.024191</td>\n",
       "      <td>0.001032</td>\n",
       "      <td>0.000341</td>\n",
       "      <td>0.079744</td>\n",
       "      <td>0.212996</td>\n",
       "      <td>0.297312</td>\n",
       "    </tr>\n",
       "    <tr>\n",
       "      <th>50%</th>\n",
       "      <td>0.639474</td>\n",
       "      <td>0.798009</td>\n",
       "      <td>0.766444</td>\n",
       "      <td>0.046533</td>\n",
       "      <td>0.005295</td>\n",
       "      <td>0.325077</td>\n",
       "      <td>0.162756</td>\n",
       "      <td>0.332977</td>\n",
       "      <td>0.399036</td>\n",
       "    </tr>\n",
       "    <tr>\n",
       "      <th>75%</th>\n",
       "      <td>0.801754</td>\n",
       "      <td>0.914651</td>\n",
       "      <td>0.854643</td>\n",
       "      <td>0.119414</td>\n",
       "      <td>0.112199</td>\n",
       "      <td>0.871775</td>\n",
       "      <td>0.387362</td>\n",
       "      <td>0.596698</td>\n",
       "      <td>0.597807</td>\n",
       "    </tr>\n",
       "    <tr>\n",
       "      <th>max</th>\n",
       "      <td>1.000000</td>\n",
       "      <td>1.000000</td>\n",
       "      <td>1.000000</td>\n",
       "      <td>1.000000</td>\n",
       "      <td>1.000000</td>\n",
       "      <td>1.000000</td>\n",
       "      <td>1.000000</td>\n",
       "      <td>1.000000</td>\n",
       "      <td>1.000000</td>\n",
       "    </tr>\n",
       "  </tbody>\n",
       "</table>\n",
       "</div>"
      ],
      "text/plain": [
       "       acousticness  danceability      energy  instrumentalness    loudness  \\\n",
       "count    112.000000    112.000000  112.000000        112.000000  112.000000   \n",
       "mean       0.586685      0.728053    0.751623          0.108455    0.092037   \n",
       "std        0.250737      0.241278    0.158212          0.163875    0.182343   \n",
       "min        0.000000      0.000000    0.000000          0.000000    0.000000   \n",
       "25%        0.430702      0.608108    0.670483          0.024191    0.001032   \n",
       "50%        0.639474      0.798009    0.766444          0.046533    0.005295   \n",
       "75%        0.801754      0.914651    0.854643          0.119414    0.112199   \n",
       "max        1.000000      1.000000    1.000000          1.000000    1.000000   \n",
       "\n",
       "         liveness  speechiness       tempo     valence  \n",
       "count  112.000000   112.000000  112.000000  112.000000  \n",
       "mean     0.411947     0.236606    0.402855    0.453614  \n",
       "std      0.411207     0.218415    0.266717    0.249533  \n",
       "min      0.000000     0.000000    0.000000    0.000000  \n",
       "25%      0.000341     0.079744    0.212996    0.297312  \n",
       "50%      0.325077     0.162756    0.332977    0.399036  \n",
       "75%      0.871775     0.387362    0.596698    0.597807  \n",
       "max      1.000000     1.000000    1.000000    1.000000  "
      ]
     },
     "execution_count": 13,
     "metadata": {},
     "output_type": "execute_result"
    }
   ],
   "source": [
    "from sklearn import preprocessing\n",
    "\n",
    "x = data2.values \n",
    "min_max_scaler = preprocessing.MinMaxScaler()\n",
    "x_scaled = min_max_scaler.fit_transform(x)\n",
    "data2 = pd.DataFrame(x_scaled)\n",
    "\n",
    "data2.columns = ['acousticness','danceability','energy','instrumentalness','loudness', 'liveness', 'speechiness', 'tempo','valence']\n",
    "\n",
    "data2.describe()"
   ]
  },
  {
   "cell_type": "code",
   "execution_count": 14,
   "metadata": {},
   "outputs": [
    {
     "data": {
      "application/vnd.plotly.v1+json": {
       "config": {
        "plotlyServerURL": "https://plot.ly"
       },
       "data": [
        {
         "hovertemplate": "x=%{x}<br>y=%{y}<extra></extra>",
         "legendgroup": "",
         "marker": {
          "color": "#000001",
          "symbol": "circle"
         },
         "mode": "markers",
         "name": "",
         "orientation": "v",
         "showlegend": false,
         "type": "scatter",
         "x": [
          -0.46624715496187086,
          0.5712299932395414,
          0.39368170190027985,
          0.36523624662700105,
          -0.025717351899394742,
          -0.3848015880317769,
          -0.5263844687900492,
          0.6040183436835154,
          -0.6124069481664217,
          -0.5514993368403409,
          -0.3511324966256228,
          -0.5372988274527786,
          -0.48901068610044435,
          -0.33259050331932427,
          -0.4748688112536112,
          -0.269234418855953,
          -0.29318508201087273,
          0.5977513157824356,
          -0.02462357303172454,
          0.49259663908853446,
          -0.3725635014873985,
          0.6839766359695676,
          0.32295079152260786,
          -0.16204002784868807,
          -0.20618956699736543,
          -0.43088153691439013,
          0.7080421326033288,
          0.7539907849149131,
          0.3124101150755985,
          -0.5455088544273314,
          0.5073171842669895,
          0.3270853256448677,
          -0.07763798883816968,
          0.49255660976839577,
          0.3887747319271992,
          -0.3324399160845359,
          -0.264265008746842,
          -0.3413194828334143,
          -0.38387154411835045,
          -0.3615370888555947,
          -0.3911146462098076,
          -0.36527873129955574,
          0.599439711704284,
          0.30591461940296827,
          0.4816813700977882,
          0.4797321665281833,
          0.4494981973898178,
          -0.32524253526840674,
          0.562012406704355,
          0.03986969063711212,
          -0.5799017554923891,
          -0.46620606283557087,
          0.21495345914158487,
          -0.4308774790969961,
          0.2655220668051417,
          0.4556347342689819,
          -0.46624715496187086,
          0.5712299932395414,
          0.39368170190027985,
          0.36523624662700105,
          -0.025717351899394742,
          -0.3848015880317769,
          -0.5263844687900492,
          0.6040183436835154,
          -0.6124069481664217,
          -0.5514993368403409,
          -0.3511324966256228,
          -0.5372988274527786,
          -0.48901068610044435,
          -0.33259050331932427,
          -0.4748688112536112,
          -0.269234418855953,
          -0.29318508201087273,
          0.5977513157824356,
          -0.02462357303172454,
          0.49259663908853446,
          -0.3725635014873985,
          0.6839766359695676,
          0.32295079152260786,
          -0.16204002784868807,
          -0.20618956699736543,
          -0.43088153691439013,
          0.7080421326033288,
          0.7539907849149131,
          0.3124101150755985,
          -0.5455088544273314,
          0.5073171842669895,
          0.3270853256448677,
          -0.07763798883816968,
          0.49255660976839577,
          0.3887747319271992,
          -0.3324399160845359,
          -0.264265008746842,
          -0.3413194828334143,
          -0.38387154411835045,
          -0.3615370888555947,
          -0.3911146462098076,
          -0.36527873129955574,
          0.599439711704284,
          0.30591461940296827,
          0.4816813700977882,
          0.4797321665281833,
          0.4494981973898178,
          -0.32524253526840674,
          0.562012406704355,
          0.03986969063711212,
          -0.5799017554923891,
          -0.46620606283557087,
          0.21495345914158487,
          -0.4308774790969961,
          0.2655220668051417,
          0.4556347342689819
         ],
         "xaxis": "x",
         "y": [
          -0.3480247277321401,
          -0.6090706828348377,
          -0.14448141407948806,
          -0.03785876190722942,
          0.2535638453105522,
          -0.21599041398167604,
          -0.10432614293690991,
          0.5735971844753961,
          -0.3657120322407948,
          0.41031544288230914,
          -0.24406426878212717,
          -0.33341723727492106,
          -0.10011083097615664,
          0.029390677996569484,
          -0.22920366802188974,
          -0.1052603368663384,
          -0.09647195967738273,
          -0.2277452958866146,
          -0.23881579767986982,
          -0.0805163403549073,
          0.040720205124391985,
          -0.10928759911008123,
          0.808901929617313,
          -0.09192271699416102,
          -0.1327883654225806,
          0.5615177597283022,
          0.07474080505200399,
          -0.389228175023982,
          -0.1297682235122174,
          -0.33601079257022365,
          0.34937879756205725,
          0.5592019193542528,
          0.1267367373859879,
          0.35524427485219023,
          -0.4269714814487736,
          0.04336874923263214,
          0.2792271485231781,
          -0.16585345463917453,
          0.4784941029602219,
          -0.27118239709125785,
          -0.013134460017553806,
          -0.13766281862980917,
          0.25434913046368435,
          0.013086551546714975,
          0.16435250372301025,
          -0.7931688722435007,
          -0.3027631177881786,
          0.6387863199454676,
          0.060692231847755185,
          0.4456099626727386,
          -0.228498542011704,
          0.21914939362311783,
          -0.38711788211740544,
          0.49153875445724227,
          0.33455297164899744,
          -0.1700885901321993,
          -0.3480247277321401,
          -0.6090706828348377,
          -0.14448141407948806,
          -0.03785876190722942,
          0.2535638453105522,
          -0.21599041398167604,
          -0.10432614293690991,
          0.5735971844753961,
          -0.3657120322407948,
          0.41031544288230914,
          -0.24406426878212717,
          -0.33341723727492106,
          -0.10011083097615664,
          0.029390677996569484,
          -0.22920366802188974,
          -0.1052603368663384,
          -0.09647195967738273,
          -0.2277452958866146,
          -0.23881579767986982,
          -0.0805163403549073,
          0.040720205124391985,
          -0.10928759911008123,
          0.808901929617313,
          -0.09192271699416102,
          -0.1327883654225806,
          0.5615177597283022,
          0.07474080505200399,
          -0.389228175023982,
          -0.1297682235122174,
          -0.33601079257022365,
          0.34937879756205725,
          0.5592019193542528,
          0.1267367373859879,
          0.35524427485219023,
          -0.4269714814487736,
          0.04336874923263214,
          0.2792271485231781,
          -0.16585345463917453,
          0.4784941029602219,
          -0.27118239709125785,
          -0.013134460017553806,
          -0.13766281862980917,
          0.25434913046368435,
          0.013086551546714975,
          0.16435250372301025,
          -0.7931688722435007,
          -0.3027631177881786,
          0.6387863199454676,
          0.060692231847755185,
          0.4456099626727386,
          -0.228498542011704,
          0.21914939362311783,
          -0.38711788211740544,
          0.49153875445724227,
          0.33455297164899744,
          -0.1700885901321993
         ],
         "yaxis": "y"
        }
       ],
       "layout": {
        "legend": {
         "tracegroupgap": 0
        },
        "template": {
         "data": {
          "candlestick": [
           {
            "decreasing": {
             "line": {
              "color": "#000033"
             }
            },
            "increasing": {
             "line": {
              "color": "#000032"
             }
            },
            "type": "candlestick"
           }
          ],
          "contour": [
           {
            "colorscale": [
             [
              0,
              "#000011"
             ],
             [
              0.1111111111111111,
              "#000012"
             ],
             [
              0.2222222222222222,
              "#000013"
             ],
             [
              0.3333333333333333,
              "#000014"
             ],
             [
              0.4444444444444444,
              "#000015"
             ],
             [
              0.5555555555555556,
              "#000016"
             ],
             [
              0.6666666666666666,
              "#000017"
             ],
             [
              0.7777777777777778,
              "#000018"
             ],
             [
              0.8888888888888888,
              "#000019"
             ],
             [
              1,
              "#000020"
             ]
            ],
            "type": "contour"
           }
          ],
          "contourcarpet": [
           {
            "colorscale": [
             [
              0,
              "#000011"
             ],
             [
              0.1111111111111111,
              "#000012"
             ],
             [
              0.2222222222222222,
              "#000013"
             ],
             [
              0.3333333333333333,
              "#000014"
             ],
             [
              0.4444444444444444,
              "#000015"
             ],
             [
              0.5555555555555556,
              "#000016"
             ],
             [
              0.6666666666666666,
              "#000017"
             ],
             [
              0.7777777777777778,
              "#000018"
             ],
             [
              0.8888888888888888,
              "#000019"
             ],
             [
              1,
              "#000020"
             ]
            ],
            "type": "contourcarpet"
           }
          ],
          "heatmap": [
           {
            "colorscale": [
             [
              0,
              "#000011"
             ],
             [
              0.1111111111111111,
              "#000012"
             ],
             [
              0.2222222222222222,
              "#000013"
             ],
             [
              0.3333333333333333,
              "#000014"
             ],
             [
              0.4444444444444444,
              "#000015"
             ],
             [
              0.5555555555555556,
              "#000016"
             ],
             [
              0.6666666666666666,
              "#000017"
             ],
             [
              0.7777777777777778,
              "#000018"
             ],
             [
              0.8888888888888888,
              "#000019"
             ],
             [
              1,
              "#000020"
             ]
            ],
            "type": "heatmap"
           }
          ],
          "histogram2d": [
           {
            "colorscale": [
             [
              0,
              "#000011"
             ],
             [
              0.1111111111111111,
              "#000012"
             ],
             [
              0.2222222222222222,
              "#000013"
             ],
             [
              0.3333333333333333,
              "#000014"
             ],
             [
              0.4444444444444444,
              "#000015"
             ],
             [
              0.5555555555555556,
              "#000016"
             ],
             [
              0.6666666666666666,
              "#000017"
             ],
             [
              0.7777777777777778,
              "#000018"
             ],
             [
              0.8888888888888888,
              "#000019"
             ],
             [
              1,
              "#000020"
             ]
            ],
            "type": "histogram2d"
           }
          ],
          "icicle": [
           {
            "textfont": {
             "color": "white"
            },
            "type": "icicle"
           }
          ],
          "sankey": [
           {
            "textfont": {
             "color": "#000036"
            },
            "type": "sankey"
           }
          ],
          "scatter": [
           {
            "marker": {
             "line": {
              "width": 0
             }
            },
            "type": "scatter"
           }
          ],
          "table": [
           {
            "cells": {
             "fill": {
              "color": "#000038"
             },
             "font": {
              "color": "#000037"
             },
             "line": {
              "color": "#000039"
             }
            },
            "header": {
             "fill": {
              "color": "#000040"
             },
             "font": {
              "color": "#000036"
             },
             "line": {
              "color": "#000039"
             }
            },
            "type": "table"
           }
          ],
          "waterfall": [
           {
            "connector": {
             "line": {
              "color": "#000036",
              "width": 2
             }
            },
            "decreasing": {
             "marker": {
              "color": "#000033"
             }
            },
            "increasing": {
             "marker": {
              "color": "#000032"
             }
            },
            "totals": {
             "marker": {
              "color": "#000034"
             }
            },
            "type": "waterfall"
           }
          ]
         },
         "layout": {
          "coloraxis": {
           "colorscale": [
            [
             0,
             "#000011"
            ],
            [
             0.1111111111111111,
             "#000012"
            ],
            [
             0.2222222222222222,
             "#000013"
            ],
            [
             0.3333333333333333,
             "#000014"
            ],
            [
             0.4444444444444444,
             "#000015"
            ],
            [
             0.5555555555555556,
             "#000016"
            ],
            [
             0.6666666666666666,
             "#000017"
            ],
            [
             0.7777777777777778,
             "#000018"
            ],
            [
             0.8888888888888888,
             "#000019"
            ],
            [
             1,
             "#000020"
            ]
           ]
          },
          "colorscale": {
           "diverging": [
            [
             0,
             "#000021"
            ],
            [
             0.1,
             "#000022"
            ],
            [
             0.2,
             "#000023"
            ],
            [
             0.3,
             "#000024"
            ],
            [
             0.4,
             "#000025"
            ],
            [
             0.5,
             "#000026"
            ],
            [
             0.6,
             "#000027"
            ],
            [
             0.7,
             "#000028"
            ],
            [
             0.8,
             "#000029"
            ],
            [
             0.9,
             "#000030"
            ],
            [
             1,
             "#000031"
            ]
           ],
           "sequential": [
            [
             0,
             "#000011"
            ],
            [
             0.1111111111111111,
             "#000012"
            ],
            [
             0.2222222222222222,
             "#000013"
            ],
            [
             0.3333333333333333,
             "#000014"
            ],
            [
             0.4444444444444444,
             "#000015"
            ],
            [
             0.5555555555555556,
             "#000016"
            ],
            [
             0.6666666666666666,
             "#000017"
            ],
            [
             0.7777777777777778,
             "#000018"
            ],
            [
             0.8888888888888888,
             "#000019"
            ],
            [
             1,
             "#000020"
            ]
           ],
           "sequentialminus": [
            [
             0,
             "#000011"
            ],
            [
             0.1111111111111111,
             "#000012"
            ],
            [
             0.2222222222222222,
             "#000013"
            ],
            [
             0.3333333333333333,
             "#000014"
            ],
            [
             0.4444444444444444,
             "#000015"
            ],
            [
             0.5555555555555556,
             "#000016"
            ],
            [
             0.6666666666666666,
             "#000017"
            ],
            [
             0.7777777777777778,
             "#000018"
            ],
            [
             0.8888888888888888,
             "#000019"
            ],
            [
             1,
             "#000020"
            ]
           ]
          },
          "colorway": [
           "#000001",
           "#000002",
           "#000003",
           "#000004",
           "#000005",
           "#000006",
           "#000007",
           "#000008",
           "#000009",
           "#000010"
          ]
         }
        },
        "title": {
         "text": "PCA"
        },
        "xaxis": {
         "anchor": "y",
         "domain": [
          0,
          1
         ],
         "title": {
          "text": "x"
         }
        },
        "yaxis": {
         "anchor": "x",
         "domain": [
          0,
          1
         ],
         "title": {
          "text": "y"
         }
        }
       }
      }
     },
     "metadata": {},
     "output_type": "display_data"
    }
   ],
   "source": [
    "pca = PCA(n_components=2)\n",
    "pca.fit(data2)\n",
    "pca_data = pca.transform(data2)\n",
    "\n",
    "pca_df = pd.DataFrame(data=pca_data, columns=['x', 'y'])\n",
    "pca_df.head()\n",
    "\n",
    "fig = px.scatter(pca_df, x='x', y='y', title='PCA')\n",
    "fig.show()"
   ]
  },
  {
   "cell_type": "code",
   "execution_count": 15,
   "metadata": {},
   "outputs": [
    {
     "data": {
      "application/vnd.plotly.v1+json": {
       "config": {
        "plotlyServerURL": "https://plot.ly"
       },
       "data": [
        {
         "customdata": [
          [
           "The Bad Dreamers",
           "Part Time God"
          ],
          [
           "Sami Matar",
           "Fringe Society"
          ],
          [
           "Arcis",
           "The Arcane Arts"
          ],
          [
           "Fury Weekend",
           "Knightriders"
          ],
          [
           "Kayzo",
           "WAITING"
          ],
          [
           "Bag Raiders",
           "Shooting Stars"
          ],
          [
           "pewdiepie",
           "Bitch Lasagna"
          ],
          [
           "F-777",
           "Ludicrous Speed 1"
          ],
          [
           "Fort Minor",
           "Remember the Name (feat. Styles of Beyond)"
          ],
          [
           "Lil Wayne",
           "Sucker for Pain (with Wiz Khalifa, Imagine Dragons, Logic & Ty Dolla $ign feat. X Ambassadors)"
          ],
          [
           "Besomorph",
           "Apologize"
          ],
          [
           "Arc North",
           "Down"
          ],
          [
           "EQRIC",
           "Love You Like A Love Song"
          ],
          [
           "Anthony Keyrouz",
           "Losing Touch"
          ],
          [
           "TheFatRat",
           "Unity"
          ],
          [
           "K-391",
           "Play"
          ],
          [
           "Vicetone",
           "Nevada"
          ],
          [
           "M|O|O|N",
           "Dust"
          ],
          [
           "dj-Nate",
           "Electrodynamix"
          ],
          [
           "Van Halen",
           "Eruption - 2015 Remaster"
          ],
          [
           "Van Halen",
           "Runnin' with the Devil - 2015 Remaster"
          ],
          [
           "F-777",
           "Airborne Robots"
          ],
          [
           "F-777",
           "Ludicrous Speed (2013 Version)"
          ],
          [
           "DOPEDROP",
           "Moskau"
          ],
          [
           "Michael Hunter",
           "Soviet Connection \\xe2\\x80\\x94 The Theme from Grand Theft Auto IV"
          ],
          [
           "Elena Siegman",
           "115"
          ],
          [
           "Mick Gordon",
           "Bfg Division"
          ],
          [
           "Kevin Sherwood",
           "Damned"
          ],
          [
           "Liu",
           "Pirate"
          ],
          [
           "Nathan Evans",
           "Wellerman - Sea Shanty"
          ],
          [
           "Bossfight",
           "Milky Ways"
          ],
          [
           "RIOT",
           "Overkill"
          ],
          [
           "Dance With the Dead",
           "Diabolic"
          ],
          [
           "Hyper",
           "Spoiler - Original Mix"
          ],
          [
           "Music Falcon",
           "Coffin Dance"
          ],
          [
           "Scatman John",
           "Scatman - DJ Kadozer 2003 - Radio Edit"
          ],
          [
           "Helix",
           "Liberty"
          ],
          [
           "KLIO",
           "The Spectre"
          ],
          [
           "Charizmatic",
           "Never Really Gone - Resensed Remix"
          ],
          [
           "t.A.T.u.",
           "All The Things She Said - Fernando Garibay Remix"
          ],
          [
           "Besomorph",
           "Zombie (Zombic & Felix Schorn Remix)"
          ],
          [
           "Alan Walker",
           "Alone"
          ],
          [
           "Casey Edwards",
           "Bury the Light"
          ],
          [
           "Hallmore",
           "Dead of the Night"
          ],
          [
           "B-Bass vs. DJ Mds",
           "Bass Is Kicking (2005 Edit)"
          ],
          [
           "d6ni4l",
           "Drive Forever"
          ],
          [
           "Simon Chylinski",
           "Abandon Ship"
          ],
          [
           "NOMA",
           "Brain Power"
          ],
          [
           "RichaadEB",
           "Crab Rave"
          ],
          [
           "Xomu",
           "Last Dance"
          ],
          [
           "Soar",
           "Dance 'till You're Dead (Remix)"
          ],
          [
           "Go2",
           "SPITFIRE"
          ],
          [
           "Archie",
           "Back Again"
          ],
          [
           "Our Stolen Theory",
           "United - L.A.O.S Remix"
          ],
          [
           "Rayden",
           "Libera Me From Hell - from \"Gurren Lagann\""
          ],
          [
           "Panda Eyes",
           "Highscore"
          ],
          [
           "The Bad Dreamers",
           "Part Time God"
          ],
          [
           "Sami Matar",
           "Fringe Society"
          ],
          [
           "Arcis",
           "The Arcane Arts"
          ],
          [
           "Fury Weekend",
           "Knightriders"
          ],
          [
           "Kayzo",
           "WAITING"
          ],
          [
           "Bag Raiders",
           "Shooting Stars"
          ],
          [
           "pewdiepie",
           "Bitch Lasagna"
          ],
          [
           "F-777",
           "Ludicrous Speed 1"
          ],
          [
           "Fort Minor",
           "Remember the Name (feat. Styles of Beyond)"
          ],
          [
           "Lil Wayne",
           "Sucker for Pain (with Wiz Khalifa, Imagine Dragons, Logic & Ty Dolla $ign feat. X Ambassadors)"
          ],
          [
           "Besomorph",
           "Apologize"
          ],
          [
           "Arc North",
           "Down"
          ],
          [
           "EQRIC",
           "Love You Like A Love Song"
          ],
          [
           "Anthony Keyrouz",
           "Losing Touch"
          ],
          [
           "TheFatRat",
           "Unity"
          ],
          [
           "K-391",
           "Play"
          ],
          [
           "Vicetone",
           "Nevada"
          ],
          [
           "M|O|O|N",
           "Dust"
          ],
          [
           "dj-Nate",
           "Electrodynamix"
          ],
          [
           "Van Halen",
           "Eruption - 2015 Remaster"
          ],
          [
           "Van Halen",
           "Runnin' with the Devil - 2015 Remaster"
          ],
          [
           "F-777",
           "Airborne Robots"
          ],
          [
           "F-777",
           "Ludicrous Speed (2013 Version)"
          ],
          [
           "DOPEDROP",
           "Moskau"
          ],
          [
           "Michael Hunter",
           "Soviet Connection \\xe2\\x80\\x94 The Theme from Grand Theft Auto IV"
          ],
          [
           "Elena Siegman",
           "115"
          ],
          [
           "Mick Gordon",
           "Bfg Division"
          ],
          [
           "Kevin Sherwood",
           "Damned"
          ],
          [
           "Liu",
           "Pirate"
          ],
          [
           "Nathan Evans",
           "Wellerman - Sea Shanty"
          ],
          [
           "Bossfight",
           "Milky Ways"
          ],
          [
           "RIOT",
           "Overkill"
          ],
          [
           "Dance With the Dead",
           "Diabolic"
          ],
          [
           "Hyper",
           "Spoiler - Original Mix"
          ],
          [
           "Music Falcon",
           "Coffin Dance"
          ],
          [
           "Scatman John",
           "Scatman - DJ Kadozer 2003 - Radio Edit"
          ],
          [
           "Helix",
           "Liberty"
          ],
          [
           "KLIO",
           "The Spectre"
          ],
          [
           "Charizmatic",
           "Never Really Gone - Resensed Remix"
          ],
          [
           "t.A.T.u.",
           "All The Things She Said - Fernando Garibay Remix"
          ],
          [
           "Besomorph",
           "Zombie (Zombic & Felix Schorn Remix)"
          ],
          [
           "Alan Walker",
           "Alone"
          ],
          [
           "Casey Edwards",
           "Bury the Light"
          ],
          [
           "Hallmore",
           "Dead of the Night"
          ],
          [
           "B-Bass vs. DJ Mds",
           "Bass Is Kicking (2005 Edit)"
          ],
          [
           "d6ni4l",
           "Drive Forever"
          ],
          [
           "Simon Chylinski",
           "Abandon Ship"
          ],
          [
           "NOMA",
           "Brain Power"
          ],
          [
           "RichaadEB",
           "Crab Rave"
          ],
          [
           "Xomu",
           "Last Dance"
          ],
          [
           "Soar",
           "Dance 'till You're Dead (Remix)"
          ],
          [
           "Go2",
           "SPITFIRE"
          ],
          [
           "Archie",
           "Back Again"
          ],
          [
           "Our Stolen Theory",
           "United - L.A.O.S Remix"
          ],
          [
           "Rayden",
           "Libera Me From Hell - from \"Gurren Lagann\""
          ],
          [
           "Panda Eyes",
           "Highscore"
          ]
         ],
         "hovertemplate": "x=%{x}<br>y=%{y}<br>hover_data_0=%{customdata[0]}<br>hover_data_1=%{customdata[1]}<br>color=%{marker.color}<extra></extra>",
         "legendgroup": "",
         "marker": {
          "color": [
           6,
           0,
           2,
           2,
           7,
           6,
           6,
           4,
           6,
           3,
           6,
           6,
           6,
           1,
           6,
           1,
           1,
           2,
           1,
           2,
           1,
           5,
           4,
           1,
           1,
           3,
           5,
           0,
           2,
           6,
           4,
           4,
           7,
           4,
           0,
           1,
           3,
           1,
           3,
           6,
           1,
           1,
           5,
           2,
           5,
           0,
           2,
           3,
           5,
           7,
           6,
           3,
           2,
           3,
           4,
           2,
           6,
           0,
           2,
           2,
           7,
           6,
           6,
           4,
           6,
           3,
           6,
           6,
           6,
           1,
           6,
           1,
           1,
           2,
           1,
           2,
           1,
           5,
           4,
           1,
           1,
           3,
           5,
           0,
           2,
           6,
           4,
           4,
           7,
           4,
           0,
           1,
           3,
           1,
           3,
           6,
           1,
           1,
           5,
           2,
           5,
           0,
           2,
           3,
           5,
           7,
           6,
           3,
           2,
           3,
           4,
           2
          ],
          "coloraxis": "coloraxis",
          "symbol": "circle"
         },
         "mode": "markers",
         "name": "",
         "orientation": "v",
         "showlegend": false,
         "type": "scatter",
         "x": [
          -0.46624715496187086,
          0.5712299932395414,
          0.39368170190027985,
          0.36523624662700105,
          -0.025717351899394742,
          -0.3848015880317769,
          -0.5263844687900492,
          0.6040183436835154,
          -0.6124069481664217,
          -0.5514993368403409,
          -0.3511324966256228,
          -0.5372988274527786,
          -0.48901068610044435,
          -0.33259050331932427,
          -0.4748688112536112,
          -0.269234418855953,
          -0.29318508201087273,
          0.5977513157824356,
          -0.02462357303172454,
          0.49259663908853446,
          -0.3725635014873985,
          0.6839766359695676,
          0.32295079152260786,
          -0.16204002784868807,
          -0.20618956699736543,
          -0.43088153691439013,
          0.7080421326033288,
          0.7539907849149131,
          0.3124101150755985,
          -0.5455088544273314,
          0.5073171842669895,
          0.3270853256448677,
          -0.07763798883816968,
          0.49255660976839577,
          0.3887747319271992,
          -0.3324399160845359,
          -0.264265008746842,
          -0.3413194828334143,
          -0.38387154411835045,
          -0.3615370888555947,
          -0.3911146462098076,
          -0.36527873129955574,
          0.599439711704284,
          0.30591461940296827,
          0.4816813700977882,
          0.4797321665281833,
          0.4494981973898178,
          -0.32524253526840674,
          0.562012406704355,
          0.03986969063711212,
          -0.5799017554923891,
          -0.46620606283557087,
          0.21495345914158487,
          -0.4308774790969961,
          0.2655220668051417,
          0.4556347342689819,
          -0.46624715496187086,
          0.5712299932395414,
          0.39368170190027985,
          0.36523624662700105,
          -0.025717351899394742,
          -0.3848015880317769,
          -0.5263844687900492,
          0.6040183436835154,
          -0.6124069481664217,
          -0.5514993368403409,
          -0.3511324966256228,
          -0.5372988274527786,
          -0.48901068610044435,
          -0.33259050331932427,
          -0.4748688112536112,
          -0.269234418855953,
          -0.29318508201087273,
          0.5977513157824356,
          -0.02462357303172454,
          0.49259663908853446,
          -0.3725635014873985,
          0.6839766359695676,
          0.32295079152260786,
          -0.16204002784868807,
          -0.20618956699736543,
          -0.43088153691439013,
          0.7080421326033288,
          0.7539907849149131,
          0.3124101150755985,
          -0.5455088544273314,
          0.5073171842669895,
          0.3270853256448677,
          -0.07763798883816968,
          0.49255660976839577,
          0.3887747319271992,
          -0.3324399160845359,
          -0.264265008746842,
          -0.3413194828334143,
          -0.38387154411835045,
          -0.3615370888555947,
          -0.3911146462098076,
          -0.36527873129955574,
          0.599439711704284,
          0.30591461940296827,
          0.4816813700977882,
          0.4797321665281833,
          0.4494981973898178,
          -0.32524253526840674,
          0.562012406704355,
          0.03986969063711212,
          -0.5799017554923891,
          -0.46620606283557087,
          0.21495345914158487,
          -0.4308774790969961,
          0.2655220668051417,
          0.4556347342689819
         ],
         "xaxis": "x",
         "y": [
          -0.3480247277321401,
          -0.6090706828348377,
          -0.14448141407948806,
          -0.03785876190722942,
          0.2535638453105522,
          -0.21599041398167604,
          -0.10432614293690991,
          0.5735971844753961,
          -0.3657120322407948,
          0.41031544288230914,
          -0.24406426878212717,
          -0.33341723727492106,
          -0.10011083097615664,
          0.029390677996569484,
          -0.22920366802188974,
          -0.1052603368663384,
          -0.09647195967738273,
          -0.2277452958866146,
          -0.23881579767986982,
          -0.0805163403549073,
          0.040720205124391985,
          -0.10928759911008123,
          0.808901929617313,
          -0.09192271699416102,
          -0.1327883654225806,
          0.5615177597283022,
          0.07474080505200399,
          -0.389228175023982,
          -0.1297682235122174,
          -0.33601079257022365,
          0.34937879756205725,
          0.5592019193542528,
          0.1267367373859879,
          0.35524427485219023,
          -0.4269714814487736,
          0.04336874923263214,
          0.2792271485231781,
          -0.16585345463917453,
          0.4784941029602219,
          -0.27118239709125785,
          -0.013134460017553806,
          -0.13766281862980917,
          0.25434913046368435,
          0.013086551546714975,
          0.16435250372301025,
          -0.7931688722435007,
          -0.3027631177881786,
          0.6387863199454676,
          0.060692231847755185,
          0.4456099626727386,
          -0.228498542011704,
          0.21914939362311783,
          -0.38711788211740544,
          0.49153875445724227,
          0.33455297164899744,
          -0.1700885901321993,
          -0.3480247277321401,
          -0.6090706828348377,
          -0.14448141407948806,
          -0.03785876190722942,
          0.2535638453105522,
          -0.21599041398167604,
          -0.10432614293690991,
          0.5735971844753961,
          -0.3657120322407948,
          0.41031544288230914,
          -0.24406426878212717,
          -0.33341723727492106,
          -0.10011083097615664,
          0.029390677996569484,
          -0.22920366802188974,
          -0.1052603368663384,
          -0.09647195967738273,
          -0.2277452958866146,
          -0.23881579767986982,
          -0.0805163403549073,
          0.040720205124391985,
          -0.10928759911008123,
          0.808901929617313,
          -0.09192271699416102,
          -0.1327883654225806,
          0.5615177597283022,
          0.07474080505200399,
          -0.389228175023982,
          -0.1297682235122174,
          -0.33601079257022365,
          0.34937879756205725,
          0.5592019193542528,
          0.1267367373859879,
          0.35524427485219023,
          -0.4269714814487736,
          0.04336874923263214,
          0.2792271485231781,
          -0.16585345463917453,
          0.4784941029602219,
          -0.27118239709125785,
          -0.013134460017553806,
          -0.13766281862980917,
          0.25434913046368435,
          0.013086551546714975,
          0.16435250372301025,
          -0.7931688722435007,
          -0.3027631177881786,
          0.6387863199454676,
          0.060692231847755185,
          0.4456099626727386,
          -0.228498542011704,
          0.21914939362311783,
          -0.38711788211740544,
          0.49153875445724227,
          0.33455297164899744,
          -0.1700885901321993
         ],
         "yaxis": "y"
        }
       ],
       "layout": {
        "coloraxis": {
         "colorbar": {
          "title": {
           "text": "color"
          }
         },
         "colorscale": [
          [
           0,
           "rgb(150,0,90)"
          ],
          [
           0.125,
           "rgb(0,0,200)"
          ],
          [
           0.25,
           "rgb(0,25,255)"
          ],
          [
           0.375,
           "rgb(0,152,255)"
          ],
          [
           0.5,
           "rgb(44,255,150)"
          ],
          [
           0.625,
           "rgb(151,255,0)"
          ],
          [
           0.75,
           "rgb(255,234,0)"
          ],
          [
           0.875,
           "rgb(255,111,0)"
          ],
          [
           1,
           "rgb(255,0,0)"
          ]
         ]
        },
        "legend": {
         "tracegroupgap": 0
        },
        "margin": {
         "t": 60
        },
        "template": {
         "data": {
          "candlestick": [
           {
            "decreasing": {
             "line": {
              "color": "#000033"
             }
            },
            "increasing": {
             "line": {
              "color": "#000032"
             }
            },
            "type": "candlestick"
           }
          ],
          "contour": [
           {
            "colorscale": [
             [
              0,
              "#000011"
             ],
             [
              0.1111111111111111,
              "#000012"
             ],
             [
              0.2222222222222222,
              "#000013"
             ],
             [
              0.3333333333333333,
              "#000014"
             ],
             [
              0.4444444444444444,
              "#000015"
             ],
             [
              0.5555555555555556,
              "#000016"
             ],
             [
              0.6666666666666666,
              "#000017"
             ],
             [
              0.7777777777777778,
              "#000018"
             ],
             [
              0.8888888888888888,
              "#000019"
             ],
             [
              1,
              "#000020"
             ]
            ],
            "type": "contour"
           }
          ],
          "contourcarpet": [
           {
            "colorscale": [
             [
              0,
              "#000011"
             ],
             [
              0.1111111111111111,
              "#000012"
             ],
             [
              0.2222222222222222,
              "#000013"
             ],
             [
              0.3333333333333333,
              "#000014"
             ],
             [
              0.4444444444444444,
              "#000015"
             ],
             [
              0.5555555555555556,
              "#000016"
             ],
             [
              0.6666666666666666,
              "#000017"
             ],
             [
              0.7777777777777778,
              "#000018"
             ],
             [
              0.8888888888888888,
              "#000019"
             ],
             [
              1,
              "#000020"
             ]
            ],
            "type": "contourcarpet"
           }
          ],
          "heatmap": [
           {
            "colorscale": [
             [
              0,
              "#000011"
             ],
             [
              0.1111111111111111,
              "#000012"
             ],
             [
              0.2222222222222222,
              "#000013"
             ],
             [
              0.3333333333333333,
              "#000014"
             ],
             [
              0.4444444444444444,
              "#000015"
             ],
             [
              0.5555555555555556,
              "#000016"
             ],
             [
              0.6666666666666666,
              "#000017"
             ],
             [
              0.7777777777777778,
              "#000018"
             ],
             [
              0.8888888888888888,
              "#000019"
             ],
             [
              1,
              "#000020"
             ]
            ],
            "type": "heatmap"
           }
          ],
          "histogram2d": [
           {
            "colorscale": [
             [
              0,
              "#000011"
             ],
             [
              0.1111111111111111,
              "#000012"
             ],
             [
              0.2222222222222222,
              "#000013"
             ],
             [
              0.3333333333333333,
              "#000014"
             ],
             [
              0.4444444444444444,
              "#000015"
             ],
             [
              0.5555555555555556,
              "#000016"
             ],
             [
              0.6666666666666666,
              "#000017"
             ],
             [
              0.7777777777777778,
              "#000018"
             ],
             [
              0.8888888888888888,
              "#000019"
             ],
             [
              1,
              "#000020"
             ]
            ],
            "type": "histogram2d"
           }
          ],
          "icicle": [
           {
            "textfont": {
             "color": "white"
            },
            "type": "icicle"
           }
          ],
          "sankey": [
           {
            "textfont": {
             "color": "#000036"
            },
            "type": "sankey"
           }
          ],
          "scatter": [
           {
            "marker": {
             "line": {
              "width": 0
             }
            },
            "type": "scatter"
           }
          ],
          "table": [
           {
            "cells": {
             "fill": {
              "color": "#000038"
             },
             "font": {
              "color": "#000037"
             },
             "line": {
              "color": "#000039"
             }
            },
            "header": {
             "fill": {
              "color": "#000040"
             },
             "font": {
              "color": "#000036"
             },
             "line": {
              "color": "#000039"
             }
            },
            "type": "table"
           }
          ],
          "waterfall": [
           {
            "connector": {
             "line": {
              "color": "#000036",
              "width": 2
             }
            },
            "decreasing": {
             "marker": {
              "color": "#000033"
             }
            },
            "increasing": {
             "marker": {
              "color": "#000032"
             }
            },
            "totals": {
             "marker": {
              "color": "#000034"
             }
            },
            "type": "waterfall"
           }
          ]
         },
         "layout": {
          "coloraxis": {
           "colorscale": [
            [
             0,
             "#000011"
            ],
            [
             0.1111111111111111,
             "#000012"
            ],
            [
             0.2222222222222222,
             "#000013"
            ],
            [
             0.3333333333333333,
             "#000014"
            ],
            [
             0.4444444444444444,
             "#000015"
            ],
            [
             0.5555555555555556,
             "#000016"
            ],
            [
             0.6666666666666666,
             "#000017"
            ],
            [
             0.7777777777777778,
             "#000018"
            ],
            [
             0.8888888888888888,
             "#000019"
            ],
            [
             1,
             "#000020"
            ]
           ]
          },
          "colorscale": {
           "diverging": [
            [
             0,
             "#000021"
            ],
            [
             0.1,
             "#000022"
            ],
            [
             0.2,
             "#000023"
            ],
            [
             0.3,
             "#000024"
            ],
            [
             0.4,
             "#000025"
            ],
            [
             0.5,
             "#000026"
            ],
            [
             0.6,
             "#000027"
            ],
            [
             0.7,
             "#000028"
            ],
            [
             0.8,
             "#000029"
            ],
            [
             0.9,
             "#000030"
            ],
            [
             1,
             "#000031"
            ]
           ],
           "sequential": [
            [
             0,
             "#000011"
            ],
            [
             0.1111111111111111,
             "#000012"
            ],
            [
             0.2222222222222222,
             "#000013"
            ],
            [
             0.3333333333333333,
             "#000014"
            ],
            [
             0.4444444444444444,
             "#000015"
            ],
            [
             0.5555555555555556,
             "#000016"
            ],
            [
             0.6666666666666666,
             "#000017"
            ],
            [
             0.7777777777777778,
             "#000018"
            ],
            [
             0.8888888888888888,
             "#000019"
            ],
            [
             1,
             "#000020"
            ]
           ],
           "sequentialminus": [
            [
             0,
             "#000011"
            ],
            [
             0.1111111111111111,
             "#000012"
            ],
            [
             0.2222222222222222,
             "#000013"
            ],
            [
             0.3333333333333333,
             "#000014"
            ],
            [
             0.4444444444444444,
             "#000015"
            ],
            [
             0.5555555555555556,
             "#000016"
            ],
            [
             0.6666666666666666,
             "#000017"
            ],
            [
             0.7777777777777778,
             "#000018"
            ],
            [
             0.8888888888888888,
             "#000019"
            ],
            [
             1,
             "#000020"
            ]
           ]
          },
          "colorway": [
           "#000001",
           "#000002",
           "#000003",
           "#000004",
           "#000005",
           "#000006",
           "#000007",
           "#000008",
           "#000009",
           "#000010"
          ]
         }
        },
        "xaxis": {
         "anchor": "y",
         "domain": [
          0,
          1
         ],
         "title": {
          "text": "x"
         }
        },
        "yaxis": {
         "anchor": "x",
         "domain": [
          0,
          1
         ],
         "title": {
          "text": "y"
         }
        }
       }
      }
     },
     "metadata": {},
     "output_type": "display_data"
    }
   ],
   "source": [
    "data2 = list(zip(pca_df['x'], pca_df['y']))\n",
    "\n",
    "kmeans = KMeans(n_init=10, max_iter=1000).fit(data2)\n",
    "\n",
    "fig = px.scatter(pca_df, x='x', y='y', color=kmeans.labels_, color_continuous_scale='rainbow', hover_data=[data.artist, data.name])\n",
    "fig.show()"
   ]
  },
  {
   "cell_type": "code",
   "execution_count": 16,
   "metadata": {},
   "outputs": [],
   "source": [
    "def dataProcessing():\n",
    "    data = pd.read_csv('dataset.csv')\n",
    "    data\n",
    "    st.write(\"## Preprocessing Result\")\n",
    "\n",
    "    data = data[['artist', 'name', 'year', 'popularity', 'key', 'mode', 'duration_ms', 'acousticness',\n",
    "                'danceability', 'energy', 'instrumentalness', 'loudness', 'liveness', 'speechiness', 'tempo', 'valence']]\n",
    "    data = data.drop(['mode'], axis=1)\n",
    "    data['artist'] = data['artist'].map(lambda x: str(x)[2:-1])\n",
    "    data['name'] = data['name'].map(lambda x: str(x)[2:-1])\n",
    "    st.write(\"### Data to be deleted:\")\n",
    "    data[data['name'] == '']\n",
    "    data = data[data['name'] != '']\n",
    "\n",
    "    st.write(\"## Normalization Result\")\n",
    "    data2 = data.copy()\n",
    "    data2 = data2.drop(\n",
    "        ['artist', 'name', 'year', 'popularity', 'key', 'duration_ms'], axis=1)\n",
    "    x = data2.values\n",
    "    min_max_scaler = preprocessing.MinMaxScaler()\n",
    "    x_scaled = min_max_scaler.fit_transform(x)\n",
    "    data2 = pd.DataFrame(x_scaled)\n",
    "    data2.columns = ['acousticness', 'danceability', 'energy', 'instrumentalness',\n",
    "                     'loudness', 'liveness', 'speechiness', 'tempo', 'valence']\n",
    "    data2\n",
    "\n",
    "    st.write(\"## Dimensionality Reduction with PCA\")\n",
    "    pca = PCA(n_components=2)\n",
    "    pca.fit(data2)\n",
    "    pca_data = pca.transform(data2)\n",
    "    pca_df = pd.DataFrame(data=pca_data, columns=['x', 'y'])\n",
    "    fig = px.scatter(pca_df, x='x', y='y', title='PCA')\n",
    "    st.plotly_chart(fig)\n",
    "\n",
    "    st.write(\"## Clustering with K-Means\")\n",
    "    data2 = list(zip(pca_df['x'], pca_df['y']))\n",
    "    kmeans = KMeans(n_init=10, max_iter=1000).fit(data2)\n",
    "    fig = px.scatter(pca_df, x='x', y='y', color=kmeans.labels_,\n",
    "                     color_continuous_scale='rainbow', hover_data=[data.artist, data.name])\n",
    "    st.plotly_chart(fig)\n",
    "\n",
    "    st.write(\"Enjoy!\")"
   ]
  },
  {
   "cell_type": "code",
   "execution_count": 17,
   "metadata": {},
   "outputs": [
    {
     "name": "stderr",
     "output_type": "stream",
     "text": [
      "2023-10-05 14:48:18.457 \n",
      "  \u001b[33m\u001b[1mWarning:\u001b[0m to view this Streamlit app on a browser, run it with the following\n",
      "  command:\n",
      "\n",
      "    streamlit run C:\\Users\\ASUS\\AppData\\Roaming\\Python\\Python311\\site-packages\\ipykernel_launcher.py [ARGUMENTS]\n"
     ]
    }
   ],
   "source": [
    "st.write(\"# Spotify Playlist Clustering\")\n",
    "client_id = st.text_input(\"Enter Client ID\")\n",
    "client_secret = st.text_input(\"Enter Client Secret\")\n",
    "playlistId = st.text_input(\"Enter Playlist ID\")\n"
   ]
  },
  {
   "cell_type": "code",
   "execution_count": 18,
   "metadata": {},
   "outputs": [],
   "source": [
    "if st.button('Create Dataset!'):\n",
    "    token = getToken()\n",
    "    getPlaylistItems(token, playlistId)"
   ]
  }
 ],
 "metadata": {
  "kernelspec": {
   "display_name": "Python 3",
   "language": "python",
   "name": "python3"
  },
  "language_info": {
   "codemirror_mode": {
    "name": "ipython",
    "version": 3
   },
   "file_extension": ".py",
   "mimetype": "text/x-python",
   "name": "python",
   "nbconvert_exporter": "python",
   "pygments_lexer": "ipython3",
   "version": "3.11.0"
  },
  "orig_nbformat": 4
 },
 "nbformat": 4,
 "nbformat_minor": 2
}
